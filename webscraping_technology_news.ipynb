{
  "nbformat": 4,
  "nbformat_minor": 0,
  "metadata": {
    "colab": {
      "provenance": [],
      "gpuType": "T4",
      "authorship_tag": "ABX9TyO19V9k5LVlTQm7SrFCWJup",
      "include_colab_link": true
    },
    "kernelspec": {
      "name": "python3",
      "display_name": "Python 3"
    },
    "language_info": {
      "name": "python"
    },
    "accelerator": "GPU"
  },
  "cells": [
    {
      "cell_type": "markdown",
      "metadata": {
        "id": "view-in-github",
        "colab_type": "text"
      },
      "source": [
        "<a href=\"https://colab.research.google.com/github/snehaangeline/NLP-projects/blob/main/webscraping_technology_news.ipynb\" target=\"_parent\"><img src=\"https://colab.research.google.com/assets/colab-badge.svg\" alt=\"Open In Colab\"/></a>"
      ]
    },
    {
      "cell_type": "code",
      "source": [
        "!pip install requests\n"
      ],
      "metadata": {
        "colab": {
          "base_uri": "https://localhost:8080/"
        },
        "id": "2wZExj-c5lWG",
        "outputId": "68e707fc-b62d-4eab-e465-37434c36cfaa"
      },
      "execution_count": null,
      "outputs": [
        {
          "output_type": "stream",
          "name": "stdout",
          "text": [
            "Requirement already satisfied: requests in /usr/local/lib/python3.11/dist-packages (2.32.3)\n",
            "Requirement already satisfied: charset-normalizer<4,>=2 in /usr/local/lib/python3.11/dist-packages (from requests) (3.4.1)\n",
            "Requirement already satisfied: idna<4,>=2.5 in /usr/local/lib/python3.11/dist-packages (from requests) (3.10)\n",
            "Requirement already satisfied: urllib3<3,>=1.21.1 in /usr/local/lib/python3.11/dist-packages (from requests) (2.3.0)\n",
            "Requirement already satisfied: certifi>=2017.4.17 in /usr/local/lib/python3.11/dist-packages (from requests) (2025.1.31)\n"
          ]
        }
      ]
    },
    {
      "cell_type": "code",
      "source": [
        "import requests\n",
        "import pandas as pd\n"
      ],
      "metadata": {
        "id": "yEaKW4Eu5oEc"
      },
      "execution_count": null,
      "outputs": []
    },
    {
      "cell_type": "code",
      "source": [
        "API_KEY = \"308eead3ec5a4ea98dd79ec5be5f44e6\"  # Replace with your API Key\n",
        "url = f\"https://newsapi.org/v2/everything?q=technology&language=en&apiKey={API_KEY}\"\n",
        "\n",
        "response = requests.get(url)\n",
        "data = response.json()\n",
        "\n",
        "# Extract relevant data\n",
        "news_list = []\n",
        "for article in data[\"articles\"]:\n",
        "    news_list.append({\n",
        "        \"Title\": article[\"title\"],\n",
        "        \"Description\": article[\"description\"],\n",
        "        \"URL\": article[\"url\"]\n",
        "    })\n",
        "\n",
        "# Convert to DataFrame\n",
        "df = pd.DataFrame(news_list)\n",
        "df.head()  # Display first 5 rows\n"
      ],
      "metadata": {
        "colab": {
          "base_uri": "https://localhost:8080/",
          "height": 293
        },
        "id": "mmfdNNGD5rhd",
        "outputId": "37c15e81-744c-494b-f746-e726a6049661"
      },
      "execution_count": null,
      "outputs": [
        {
          "output_type": "execute_result",
          "data": {
            "text/plain": [
              "                                               Title  \\\n",
              "0  Under Trump, AI Scientists Are Told to Remove ...   \n",
              "1  Google Is Developing Technology to Deliver Int...   \n",
              "2  LG’s new air conditioner directs cool air towa...   \n",
              "3  AMD is launching its latest Ryzen 9 X3D gaming...   \n",
              "4  Watch this ultra-detailed animation of the sea...   \n",
              "\n",
              "                                         Description  \\\n",
              "0  A directive from the National Institute of Sta...   \n",
              "1  Taara is the latest moonshot out of Alphabet’s...   \n",
              "2  The Artcool AI Air doesn’t look as artsy as LG...   \n",
              "3  AMD is announcing that its latest gaming-orien...   \n",
              "4  The world has a more detailed map of the seafl...   \n",
              "\n",
              "                                                 URL  \n",
              "0  https://www.wired.com/story/ai-safety-institut...  \n",
              "1  https://gizmodo.com/google-is-developing-techn...  \n",
              "2  https://www.theverge.com/news/626065/lg-artcoo...  \n",
              "3  https://www.theverge.com/news/625984/amd-ryzen...  \n",
              "4  https://www.theverge.com/nasa/634086/ocean-flo...  "
            ],
            "text/html": [
              "\n",
              "  <div id=\"df-2e8fb598-d0da-4d5b-a915-641354db7e5d\" class=\"colab-df-container\">\n",
              "    <div>\n",
              "<style scoped>\n",
              "    .dataframe tbody tr th:only-of-type {\n",
              "        vertical-align: middle;\n",
              "    }\n",
              "\n",
              "    .dataframe tbody tr th {\n",
              "        vertical-align: top;\n",
              "    }\n",
              "\n",
              "    .dataframe thead th {\n",
              "        text-align: right;\n",
              "    }\n",
              "</style>\n",
              "<table border=\"1\" class=\"dataframe\">\n",
              "  <thead>\n",
              "    <tr style=\"text-align: right;\">\n",
              "      <th></th>\n",
              "      <th>Title</th>\n",
              "      <th>Description</th>\n",
              "      <th>URL</th>\n",
              "    </tr>\n",
              "  </thead>\n",
              "  <tbody>\n",
              "    <tr>\n",
              "      <th>0</th>\n",
              "      <td>Under Trump, AI Scientists Are Told to Remove ...</td>\n",
              "      <td>A directive from the National Institute of Sta...</td>\n",
              "      <td>https://www.wired.com/story/ai-safety-institut...</td>\n",
              "    </tr>\n",
              "    <tr>\n",
              "      <th>1</th>\n",
              "      <td>Google Is Developing Technology to Deliver Int...</td>\n",
              "      <td>Taara is the latest moonshot out of Alphabet’s...</td>\n",
              "      <td>https://gizmodo.com/google-is-developing-techn...</td>\n",
              "    </tr>\n",
              "    <tr>\n",
              "      <th>2</th>\n",
              "      <td>LG’s new air conditioner directs cool air towa...</td>\n",
              "      <td>The Artcool AI Air doesn’t look as artsy as LG...</td>\n",
              "      <td>https://www.theverge.com/news/626065/lg-artcoo...</td>\n",
              "    </tr>\n",
              "    <tr>\n",
              "      <th>3</th>\n",
              "      <td>AMD is launching its latest Ryzen 9 X3D gaming...</td>\n",
              "      <td>AMD is announcing that its latest gaming-orien...</td>\n",
              "      <td>https://www.theverge.com/news/625984/amd-ryzen...</td>\n",
              "    </tr>\n",
              "    <tr>\n",
              "      <th>4</th>\n",
              "      <td>Watch this ultra-detailed animation of the sea...</td>\n",
              "      <td>The world has a more detailed map of the seafl...</td>\n",
              "      <td>https://www.theverge.com/nasa/634086/ocean-flo...</td>\n",
              "    </tr>\n",
              "  </tbody>\n",
              "</table>\n",
              "</div>\n",
              "    <div class=\"colab-df-buttons\">\n",
              "\n",
              "  <div class=\"colab-df-container\">\n",
              "    <button class=\"colab-df-convert\" onclick=\"convertToInteractive('df-2e8fb598-d0da-4d5b-a915-641354db7e5d')\"\n",
              "            title=\"Convert this dataframe to an interactive table.\"\n",
              "            style=\"display:none;\">\n",
              "\n",
              "  <svg xmlns=\"http://www.w3.org/2000/svg\" height=\"24px\" viewBox=\"0 -960 960 960\">\n",
              "    <path d=\"M120-120v-720h720v720H120Zm60-500h600v-160H180v160Zm220 220h160v-160H400v160Zm0 220h160v-160H400v160ZM180-400h160v-160H180v160Zm440 0h160v-160H620v160ZM180-180h160v-160H180v160Zm440 0h160v-160H620v160Z\"/>\n",
              "  </svg>\n",
              "    </button>\n",
              "\n",
              "  <style>\n",
              "    .colab-df-container {\n",
              "      display:flex;\n",
              "      gap: 12px;\n",
              "    }\n",
              "\n",
              "    .colab-df-convert {\n",
              "      background-color: #E8F0FE;\n",
              "      border: none;\n",
              "      border-radius: 50%;\n",
              "      cursor: pointer;\n",
              "      display: none;\n",
              "      fill: #1967D2;\n",
              "      height: 32px;\n",
              "      padding: 0 0 0 0;\n",
              "      width: 32px;\n",
              "    }\n",
              "\n",
              "    .colab-df-convert:hover {\n",
              "      background-color: #E2EBFA;\n",
              "      box-shadow: 0px 1px 2px rgba(60, 64, 67, 0.3), 0px 1px 3px 1px rgba(60, 64, 67, 0.15);\n",
              "      fill: #174EA6;\n",
              "    }\n",
              "\n",
              "    .colab-df-buttons div {\n",
              "      margin-bottom: 4px;\n",
              "    }\n",
              "\n",
              "    [theme=dark] .colab-df-convert {\n",
              "      background-color: #3B4455;\n",
              "      fill: #D2E3FC;\n",
              "    }\n",
              "\n",
              "    [theme=dark] .colab-df-convert:hover {\n",
              "      background-color: #434B5C;\n",
              "      box-shadow: 0px 1px 3px 1px rgba(0, 0, 0, 0.15);\n",
              "      filter: drop-shadow(0px 1px 2px rgba(0, 0, 0, 0.3));\n",
              "      fill: #FFFFFF;\n",
              "    }\n",
              "  </style>\n",
              "\n",
              "    <script>\n",
              "      const buttonEl =\n",
              "        document.querySelector('#df-2e8fb598-d0da-4d5b-a915-641354db7e5d button.colab-df-convert');\n",
              "      buttonEl.style.display =\n",
              "        google.colab.kernel.accessAllowed ? 'block' : 'none';\n",
              "\n",
              "      async function convertToInteractive(key) {\n",
              "        const element = document.querySelector('#df-2e8fb598-d0da-4d5b-a915-641354db7e5d');\n",
              "        const dataTable =\n",
              "          await google.colab.kernel.invokeFunction('convertToInteractive',\n",
              "                                                    [key], {});\n",
              "        if (!dataTable) return;\n",
              "\n",
              "        const docLinkHtml = 'Like what you see? Visit the ' +\n",
              "          '<a target=\"_blank\" href=https://colab.research.google.com/notebooks/data_table.ipynb>data table notebook</a>'\n",
              "          + ' to learn more about interactive tables.';\n",
              "        element.innerHTML = '';\n",
              "        dataTable['output_type'] = 'display_data';\n",
              "        await google.colab.output.renderOutput(dataTable, element);\n",
              "        const docLink = document.createElement('div');\n",
              "        docLink.innerHTML = docLinkHtml;\n",
              "        element.appendChild(docLink);\n",
              "      }\n",
              "    </script>\n",
              "  </div>\n",
              "\n",
              "\n",
              "<div id=\"df-298b7b60-a3c0-411f-a12d-63ee4704d6af\">\n",
              "  <button class=\"colab-df-quickchart\" onclick=\"quickchart('df-298b7b60-a3c0-411f-a12d-63ee4704d6af')\"\n",
              "            title=\"Suggest charts\"\n",
              "            style=\"display:none;\">\n",
              "\n",
              "<svg xmlns=\"http://www.w3.org/2000/svg\" height=\"24px\"viewBox=\"0 0 24 24\"\n",
              "     width=\"24px\">\n",
              "    <g>\n",
              "        <path d=\"M19 3H5c-1.1 0-2 .9-2 2v14c0 1.1.9 2 2 2h14c1.1 0 2-.9 2-2V5c0-1.1-.9-2-2-2zM9 17H7v-7h2v7zm4 0h-2V7h2v10zm4 0h-2v-4h2v4z\"/>\n",
              "    </g>\n",
              "</svg>\n",
              "  </button>\n",
              "\n",
              "<style>\n",
              "  .colab-df-quickchart {\n",
              "      --bg-color: #E8F0FE;\n",
              "      --fill-color: #1967D2;\n",
              "      --hover-bg-color: #E2EBFA;\n",
              "      --hover-fill-color: #174EA6;\n",
              "      --disabled-fill-color: #AAA;\n",
              "      --disabled-bg-color: #DDD;\n",
              "  }\n",
              "\n",
              "  [theme=dark] .colab-df-quickchart {\n",
              "      --bg-color: #3B4455;\n",
              "      --fill-color: #D2E3FC;\n",
              "      --hover-bg-color: #434B5C;\n",
              "      --hover-fill-color: #FFFFFF;\n",
              "      --disabled-bg-color: #3B4455;\n",
              "      --disabled-fill-color: #666;\n",
              "  }\n",
              "\n",
              "  .colab-df-quickchart {\n",
              "    background-color: var(--bg-color);\n",
              "    border: none;\n",
              "    border-radius: 50%;\n",
              "    cursor: pointer;\n",
              "    display: none;\n",
              "    fill: var(--fill-color);\n",
              "    height: 32px;\n",
              "    padding: 0;\n",
              "    width: 32px;\n",
              "  }\n",
              "\n",
              "  .colab-df-quickchart:hover {\n",
              "    background-color: var(--hover-bg-color);\n",
              "    box-shadow: 0 1px 2px rgba(60, 64, 67, 0.3), 0 1px 3px 1px rgba(60, 64, 67, 0.15);\n",
              "    fill: var(--button-hover-fill-color);\n",
              "  }\n",
              "\n",
              "  .colab-df-quickchart-complete:disabled,\n",
              "  .colab-df-quickchart-complete:disabled:hover {\n",
              "    background-color: var(--disabled-bg-color);\n",
              "    fill: var(--disabled-fill-color);\n",
              "    box-shadow: none;\n",
              "  }\n",
              "\n",
              "  .colab-df-spinner {\n",
              "    border: 2px solid var(--fill-color);\n",
              "    border-color: transparent;\n",
              "    border-bottom-color: var(--fill-color);\n",
              "    animation:\n",
              "      spin 1s steps(1) infinite;\n",
              "  }\n",
              "\n",
              "  @keyframes spin {\n",
              "    0% {\n",
              "      border-color: transparent;\n",
              "      border-bottom-color: var(--fill-color);\n",
              "      border-left-color: var(--fill-color);\n",
              "    }\n",
              "    20% {\n",
              "      border-color: transparent;\n",
              "      border-left-color: var(--fill-color);\n",
              "      border-top-color: var(--fill-color);\n",
              "    }\n",
              "    30% {\n",
              "      border-color: transparent;\n",
              "      border-left-color: var(--fill-color);\n",
              "      border-top-color: var(--fill-color);\n",
              "      border-right-color: var(--fill-color);\n",
              "    }\n",
              "    40% {\n",
              "      border-color: transparent;\n",
              "      border-right-color: var(--fill-color);\n",
              "      border-top-color: var(--fill-color);\n",
              "    }\n",
              "    60% {\n",
              "      border-color: transparent;\n",
              "      border-right-color: var(--fill-color);\n",
              "    }\n",
              "    80% {\n",
              "      border-color: transparent;\n",
              "      border-right-color: var(--fill-color);\n",
              "      border-bottom-color: var(--fill-color);\n",
              "    }\n",
              "    90% {\n",
              "      border-color: transparent;\n",
              "      border-bottom-color: var(--fill-color);\n",
              "    }\n",
              "  }\n",
              "</style>\n",
              "\n",
              "  <script>\n",
              "    async function quickchart(key) {\n",
              "      const quickchartButtonEl =\n",
              "        document.querySelector('#' + key + ' button');\n",
              "      quickchartButtonEl.disabled = true;  // To prevent multiple clicks.\n",
              "      quickchartButtonEl.classList.add('colab-df-spinner');\n",
              "      try {\n",
              "        const charts = await google.colab.kernel.invokeFunction(\n",
              "            'suggestCharts', [key], {});\n",
              "      } catch (error) {\n",
              "        console.error('Error during call to suggestCharts:', error);\n",
              "      }\n",
              "      quickchartButtonEl.classList.remove('colab-df-spinner');\n",
              "      quickchartButtonEl.classList.add('colab-df-quickchart-complete');\n",
              "    }\n",
              "    (() => {\n",
              "      let quickchartButtonEl =\n",
              "        document.querySelector('#df-298b7b60-a3c0-411f-a12d-63ee4704d6af button');\n",
              "      quickchartButtonEl.style.display =\n",
              "        google.colab.kernel.accessAllowed ? 'block' : 'none';\n",
              "    })();\n",
              "  </script>\n",
              "</div>\n",
              "\n",
              "    </div>\n",
              "  </div>\n"
            ],
            "application/vnd.google.colaboratory.intrinsic+json": {
              "type": "dataframe",
              "variable_name": "df",
              "summary": "{\n  \"name\": \"df\",\n  \"rows\": 80,\n  \"fields\": [\n    {\n      \"column\": \"Title\",\n      \"properties\": {\n        \"dtype\": \"string\",\n        \"num_unique_values\": 80,\n        \"samples\": [\n          \"Tesla more than tripled the workers testing its self-driving technology in California\",\n          \"Under Trump, AI Scientists Are Told to Remove \\u2018Ideological Bias\\u2019 From Powerful Models\",\n          \"Insomniac\\u2019s VR titles delisted, casting a shadow over the technology\"\n        ],\n        \"semantic_type\": \"\",\n        \"description\": \"\"\n      }\n    },\n    {\n      \"column\": \"Description\",\n      \"properties\": {\n        \"dtype\": \"string\",\n        \"num_unique_values\": 76,\n        \"samples\": [\n          \"The world has a more detailed map of the seafloor than ever before thanks to observations taken from space. NASA published a video this week showing a remarkably clear picture of the bottom of the ocean made possible thanks to new satellite technology. The fa\\u2026\",\n          \"The brain implant company cofounded by Elon Musk is moving to trademark several product names, including Telepathy and Telekinesis.\",\n          \"Ashly Burch, the award-winning voice and performance actor behind Horizon Zero Dawn\\u2019s Aloy \\u2014 one of the most prominent characters on PlayStation today \\u2014 has some news and some very strong thoughts about the leaked Sony experiment that saw her character voiced\\u2026\"\n        ],\n        \"semantic_type\": \"\",\n        \"description\": \"\"\n      }\n    },\n    {\n      \"column\": \"URL\",\n      \"properties\": {\n        \"dtype\": \"string\",\n        \"num_unique_values\": 80,\n        \"samples\": [\n          \"https://www.businessinsider.com/tesla-autonomous-driving-california-robotaxi-2025-3\",\n          \"https://www.wired.com/story/ai-safety-institute-new-directive-america-first/\",\n          \"https://venturebeat.com/games/insomniacs-vr-titles-delisted-casting-a-shadow-over-the-technology/\"\n        ],\n        \"semantic_type\": \"\",\n        \"description\": \"\"\n      }\n    }\n  ]\n}"
            }
          },
          "metadata": {},
          "execution_count": 4
        }
      ]
    },
    {
      "cell_type": "code",
      "source": [],
      "metadata": {
        "id": "oQjOTY8n9Pef"
      },
      "execution_count": null,
      "outputs": []
    },
    {
      "cell_type": "code",
      "source": [
        "print(data)  # Check the API response\n"
      ],
      "metadata": {
        "colab": {
          "base_uri": "https://localhost:8080/"
        },
        "id": "JTRn-f6o6TE7",
        "outputId": "f4154a6c-1a79-474d-d039-89f67ab3d555"
      },
      "execution_count": null,
      "outputs": [
        {
          "output_type": "stream",
          "name": "stdout",
          "text": [
            "{'status': 'ok', 'totalResults': 47010, 'articles': [{'source': {'id': 'wired', 'name': 'Wired'}, 'author': 'Will Knight', 'title': 'Under Trump, AI Scientists Are Told to Remove ‘Ideological Bias’ From Powerful Models', 'description': 'A directive from the National Institute of Standards and Technology eliminates mention of “AI safety” and “AI fairness.”', 'url': 'https://www.wired.com/story/ai-safety-institute-new-directive-america-first/', 'urlToImage': 'https://media.wired.com/photos/67c77508ad19f713de02a563/191:100/w_1280,c_limit/trump-pointing-2202608030.jpg', 'publishedAt': '2025-03-14T23:29:46Z', 'content': 'The National Institute of Standards and Technology (NIST) has issued new instructions to scientists that partner with the US Artificial Intelligence Safety Institute (AISI) that eliminate mention of … [+3395 chars]'}, {'source': {'id': None, 'name': 'Gizmodo.com'}, 'author': 'AJ Dellinger', 'title': 'Google Is Developing Technology to Deliver Internet Via Light Bridges', 'description': 'Taara is the latest moonshot out of Alphabet’s X lab.', 'url': 'https://gizmodo.com/google-is-developing-technology-to-deliver-internet-via-light-bridges-2000570215', 'urlToImage': 'https://gizmodo.com/app/uploads/2024/09/Google.jpg', 'publishedAt': '2025-02-28T21:40:09Z', 'content': 'Google just had a lightbulb moment, and it might move internet access out of the (literal) dark ages. Over at the company’s moonshot factory X, researchers have developed a chip that they believe sho… [+2742 chars]'}, {'source': {'id': 'the-verge', 'name': 'The Verge'}, 'author': 'Andrew Liszewski', 'title': 'LG’s new air conditioner directs cool air towards people it detects.', 'description': 'The Artcool AI Air doesn’t look as artsy as LG’s previous Artcool air conditioners, but it does offer improved energy efficiency by detecting the room’s layout and the position of its occupants so it can direct airflow right to them. The company hasn’t announ…', 'url': 'https://www.theverge.com/news/626065/lg-artcool-ai-air-conditioner-room-occupant-sensing', 'urlToImage': 'https://platform.theverge.com/wp-content/uploads/sites/2/2025/03/lg_artcool_1.jpg?quality=90&strip=all&crop=0%2C10.723150329831%2C100%2C78.553699340338&w=1200', 'publishedAt': '2025-03-07T18:50:13Z', 'content': 'The Artcool AI Air doesn’t look as artsy as LG’s previous Artcool air conditioners, but it does offer improved energy efficiency by detecting the room’s layout and the position of its occupants so it… [+246 chars]'}, {'source': {'id': 'the-verge', 'name': 'The Verge'}, 'author': 'Umar Shakir', 'title': 'AMD is launching its latest Ryzen 9 X3D gaming processors on March 12th', 'description': 'AMD is announcing that its latest gaming-oriented Ryzen 9 9950X3D and 9900X3D processors will be available next week. The new chips improve on the 9800X3D, which is widely considered as the best gaming CPU. The new ones feature 16 Zen 5 cores and second-gener…', 'url': 'https://www.theverge.com/news/625984/amd-ryzen-9-x3d-9950-9900-16-zen-5-cores-launch', 'urlToImage': 'https://platform.theverge.com/wp-content/uploads/sites/2/2025/03/acastro_STK081_amd_02.jpg.webp?quality=90&strip=all&crop=0,10.654292878952,100,78.691414242097', 'publishedAt': '2025-03-07T17:15:01Z', 'content': 'AMD is announcing that its latest gaming-oriented Ryzen 9 9950X3D and 9900X3D processors will be available next week. The new chips improve on the 9800X3D, which is widely considered as the best gami… [+957 chars]'}, {'source': {'id': 'the-verge', 'name': 'The Verge'}, 'author': 'Justine Calma', 'title': 'Watch this ultra-detailed animation of the seafloor', 'description': 'The world has a more detailed map of the seafloor than ever before thanks to observations taken from space. NASA published a video this week showing a remarkably clear picture of the bottom of the ocean made possible thanks to new satellite technology. The fa…', 'url': 'https://www.theverge.com/nasa/634086/ocean-floor-map-satellite-nasa-cnes', 'urlToImage': 'https://platform.theverge.com/wp-content/uploads/sites/2/2025/03/Screenshot-2025-03-21-at-2.57.01%E2%80%AFPM.png?quality=90&strip=all&crop=0.94863731656184%2C0%2C98.102725366876%2C100&w=1200', 'publishedAt': '2025-03-21T20:15:18Z', 'content': 'A NASA and CNES satellite lets scientists see the ocean floor in new ways. \\r\\nA NASA and CNES satellite lets scientists see the ocean floor in new ways. \\r\\nThe world has a more detailed map of the seaf… [+2724 chars]'}, {'source': {'id': 'the-verge', 'name': 'The Verge'}, 'author': 'Umar Shakir', 'title': 'FCC chair says we’re too dependent on GPS and wants to explore ‘alternatives’', 'description': 'The Federal Communications Commission (FCC) plans to vote on an inquiry to explore alternatives to GPS, FCC chair Brendan Carr says in a blog post. Carr says that while GPS has been “indispensable,” the technology “isn’t infallible” and that “disruptions to G…', 'url': 'https://www.theverge.com/news/625671/fcc-vote-gps-911-technologies-inquiry', 'urlToImage': 'https://platform.theverge.com/wp-content/uploads/sites/2/2025/02/Image-Cath-Virginia-_-The-Verge-Getty-Images.jpg?quality=90&strip=all&crop=0%2C10.732984293194%2C100%2C78.534031413613&w=1200', 'publishedAt': '2025-03-06T22:46:31Z', 'content': 'FCC chair Brendan Carr says relying heavily on GPS leaves us exposed.\\r\\nFCC chair Brendan Carr says relying heavily on GPS leaves us exposed.\\r\\nThe Federal Communications Commission (FCC) plans to vote… [+1179 chars]'}, {'source': {'id': 'the-verge', 'name': 'The Verge'}, 'author': 'Jay Peters, Andrew Webster', 'title': '7 cool indie games from GDC 2025', 'description': 'The Game Developers Conference, an annual gathering that brings thousands of game developers to San Francisco, has just wrapped up. While most of the event is about networking and interesting talks about game design and technology, there were also a bunch of …', 'url': 'https://www.theverge.com/games/633885/gdc-2025-best-indie-games', 'urlToImage': 'https://platform.theverge.com/wp-content/uploads/sites/2/2025/03/MyArmsAreLongerNow_Screenshot.jpg?quality=90&strip=all&crop=0%2C3.4613147178592%2C100%2C93.077370564282&w=1200', 'publishedAt': '2025-03-21T17:12:34Z', 'content': 'The Game Developers Conference, an annual gathering that brings thousands of game developers to San Francisco, has just wrapped up. While most of the event is about networking and interesting talks a… [+5150 chars]'}, {'source': {'id': 'the-verge', 'name': 'The Verge'}, 'author': 'Dominic Preston', 'title': 'Xiaomi Buds 5 Pro are the first to deliver on Qualcomm’s promise of Wi-Fi earbuds', 'description': 'Xiaomi has given a European launch to its Buds 5 Pro, the first earbuds to use Qualcomm’s S7 Pro chip to stream audio over Wi-Fi, in addition to Bluetooth, with no increase in power consumption. Qualcomm announced the technology in October 2023, and this is t…', 'url': 'https://www.theverge.com/news/622452/xiaomi-buds-5-pro-are-the-first-to-deliver-on-qualcomms-promise-of-wi-fi-earbuds', 'urlToImage': 'https://platform.theverge.com/wp-content/uploads/sites/2/2025/03/Screenshot-2025-03-02-at-8.48.53%E2%80%AFAM.png?quality=90&strip=all&crop=0%2C9.1974026733745%2C100%2C81.605194653251&w=1200', 'publishedAt': '2025-03-02T14:03:57Z', 'content': 'They even have better battery life than the Bluetooth model.\\r\\nThey even have better battery life than the Bluetooth model.\\r\\nXiaomi has given a European launch to its Buds 5 Pro, the first earbuds to … [+2156 chars]'}, {'source': {'id': 'the-verge', 'name': 'The Verge'}, 'author': 'Jay Peters', 'title': 'Here’s a new trailer for the ambitious survival game from PUBG’s creator', 'description': 'PlayerUnknown Productions, the studio from PUBG creator Brendan Greene (aka PlayerUnknown), has shared a gameplay trailer for Prologue: Go Wayback!, a single-player survival game that’s launching in early access on Steam this year. The studio previously share…', 'url': 'https://www.theverge.com/news/620988/playerunknown-productions-prologue-go-wayback-trailer', 'urlToImage': 'https://platform.theverge.com/wp-content/uploads/sites/2/2025/02/Screenshot-2025-29-01-73.png?quality=90&strip=all&crop=0%2C3.4613147178592%2C100%2C93.077370564282&w=1200', 'publishedAt': '2025-02-27T18:44:02Z', 'content': 'The game looks like it will feature gorgeous wooded areas.\\r\\nThe game looks like it will feature gorgeous wooded areas.\\r\\nPlayerUnknown Productions, the studio from PUBG creator Brendan Greene (aka Pla… [+893 chars]'}, {'source': {'id': 'the-verge', 'name': 'The Verge'}, 'author': 'Allison Johnson', 'title': 'Android\\xa016 is getting a major hearing accessibility feature', 'description': 'Android phones will soon support Auracast with Bluetooth LE hearing aids, letting people tune in to audio broadcasts in places where it’s otherwise hard to hear. Auracast is a Bluetooth Audio LE feature, and it allows one broadcaster to connect to a virtually…', 'url': 'https://www.theverge.com/tech/628533/android-16-auracast-hearing-aid-support', 'urlToImage': 'https://platform.theverge.com/wp-content/uploads/sites/2/chorus/uploads/chorus_asset/file/24007892/acastro_STK112_android_01.jpg?quality=90&strip=all&crop=0%2C10.732984293194%2C100%2C78.534031413613&w=1200', 'publishedAt': '2025-03-13T16:00:15Z', 'content': 'Auracast will give people who use hearing aids a little extra clarity.\\r\\nAuracast will give people who use hearing aids a little extra clarity.\\r\\nAndroid phones will soon support Auracast with Bluetoot… [+1443 chars]'}, {'source': {'id': 'the-verge', 'name': 'The Verge'}, 'author': 'Sean Hollister, Jay Peters', 'title': 'Hear what Horizon Zero Dawn actor Ashly Burch thinks about AI taking her job', 'description': 'Ashly Burch, the award-winning voice and performance actor behind Horizon Zero Dawn’s Aloy — one of the most prominent characters on PlayStation today — has some news and some very strong thoughts about the leaked Sony experiment that saw her character voiced…', 'url': 'https://www.theverge.com/news/630176/ashly-burch-sony-ai-horizon-aloy-tech-demo-sag-aftra-strike', 'urlToImage': 'https://platform.theverge.com/wp-content/uploads/sites/2/2025/03/gettyimages-2196456912.jpg?quality=90&strip=all&crop=0%2C12.762431762156%2C100%2C74.475136475688&w=1200', 'publishedAt': '2025-03-14T22:07:13Z', 'content': 'Ashly Burch, the award-winning voice and performance actor behind Horizon Zero Dawn’s Aloy — one of the most prominent characters on PlayStation today — has some news and some very strong thoughts ab… [+3400 chars]'}, {'source': {'id': 'the-verge', 'name': 'The Verge'}, 'author': 'Tom Warren', 'title': 'Sony is experimenting with AI-powered PlayStation characters', 'description': 'Sony is working on a prototype AI-powered version of at least one its PlayStation game characters. An anonymous tipster has shared an internal video from Sony’s PlayStation group with The Verge that demonstrates an AI-powered version of Aloy from Horizon Forb…', 'url': 'https://www.theverge.com/news/626695/sony-playstation-ai-characters-aloy-horizon-forbidden-west-prototype', 'urlToImage': 'https://platform.theverge.com/wp-content/uploads/sites/2/2025/02/acastro_STK097_01.jpg?quality=90&strip=all&crop=0%2C10.732984293194%2C100%2C78.534031413613&w=1200', 'publishedAt': '2025-03-10T19:08:20Z', 'content': 'Sonys advanced technology group has created an AI-powered version of Aloy from PlayStations Horizon games.\\r\\nSonys advanced technology group has created an AI-powered version of Aloy from PlayStations… [+3464 chars]'}, {'source': {'id': None, 'name': 'BBC News'}, 'author': None, 'title': \"The unexpected knock-on effect of Trump's minerals 'deal of the century'\", 'description': 'The president once derided attempts to develop new green technology as a \"green new scam\" - but his deal could help boost the US\\'s potential in the sector', 'url': 'https://www.bbc.com/news/articles/c30mjedjzgpo', 'urlToImage': 'https://ichef.bbci.co.uk/news/1024/branded_news/e08e/live/7b06d6b0-001e-11f0-a8b1-950887ddc6e5.png', 'publishedAt': '2025-03-14T01:26:54Z', 'content': 'Donald Trump\\'s arrival to the White House is a \"a major blow to global climate action\". So said Christiana Figueres, the former UN climate chief, after he was elected for a second term in November.\\r\\n… [+10864 chars]'}, {'source': {'id': None, 'name': 'MacRumors'}, 'author': 'Juli Clover', 'title': 'Apple Releases Safari Technology Preview 214 With Bug Fixes and Performance Improvements', 'description': 'Apple today released a new update for Safari Technology Preview, the experimental browser that was first introduced in March 2016. Apple designed \\u200cSafari Technology Preview\\u200c to allow users to test features that are planned for future release versions of the S…', 'url': 'https://www.macrumors.com/2025/02/27/apple-releases-safari-technology-preview-214/', 'urlToImage': 'https://images.macrumors.com/t/gSfA9gdPJTtAYv_7hjK9YByevcM=/2500x/article-new/2024/07/Safari-Technology-Preview-Updated-Feature-1.jpg', 'publishedAt': '2025-02-27T23:23:01Z', 'content': 'Apple today released a new update for Safari Technology Preview, the experimental browser that was first introduced in March 2016. Apple designed \\u200cSafari Technology Preview\\u200c to allow users to test fe… [+968 chars]'}, {'source': {'id': None, 'name': 'MacRumors'}, 'author': 'Juli Clover', 'title': 'Apple Releases Safari Technology Preview 215 With Bug Fixes and Performance Improvements', 'description': 'Apple today released a new update for Safari Technology Preview, the experimental browser that was first introduced in March 2016. Apple designed \\u200cSafari Technology Preview\\u200c to allow users to test features that are planned for future release versions of the S…', 'url': 'https://www.macrumors.com/2025/03/17/apple-releases-safari-technology-preview-215/', 'urlToImage': 'https://images.macrumors.com/t/gSfA9gdPJTtAYv_7hjK9YByevcM=/2500x/article-new/2024/07/Safari-Technology-Preview-Updated-Feature-1.jpg', 'publishedAt': '2025-03-17T19:45:33Z', 'content': 'Apple today released a new update for Safari Technology Preview, the experimental browser that was first introduced in March 2016. Apple designed \\u200cSafari Technology Preview\\u200c to allow users to test fe… [+968 chars]'}, {'source': {'id': 'wired', 'name': 'Wired'}, 'author': 'Will Knight', 'title': 'Google’s Gemini Robotics AI Model Reaches Into the Physical World', 'description': 'Google has developed an AI model that gives humanoids and other robots more intelligence—and a tool designed to give them a moral compass too.', 'url': 'https://www.wired.com/story/googles-gemini-robotics-ai-model-that-reaches-into-the-physical-world/', 'urlToImage': 'https://media.wired.com/photos/67d0b92319779314eea39870/191:100/w_1280,c_limit/AI-Lab-Google-Robotics-Arm-Business.jpg', 'publishedAt': '2025-03-12T15:00:00Z', 'content': 'Google said at its briefing that it is currently collaborating with a number of robotics companies, including Agility Robotics and Boston Dynamics, which make legged robots, and Enchanted Tools, whic… [+2299 chars]'}, {'source': {'id': 'wired', 'name': 'Wired'}, 'author': 'Ryan Waniata', 'title': 'Sony’s Dazzling New RGB LED TV Comes in 2026', 'description': 'Sony’s incoming RGB tech joins Hisense and Samsung in the race to define the future of LED TVs.', 'url': 'https://www.wired.com/story/sony-rgb-led-tv/', 'urlToImage': 'https://media.wired.com/photos/67d1dc29e3dd1d52d70b1013/191:100/w_1280,c_limit/Sony-RGB-LED-TV-(Color%20Volume%20benefit%20before%20and%20after)-SOURCE-Sony.jpg', 'publishedAt': '2025-03-13T16:45:47Z', 'content': 'LED TVs are about to get a lot better. As demonstrated by Hisense and to some extent Samsung at CES 2025, a new backlight technology called RGB LED is poised to improve the quality and efficiency of … [+2714 chars]'}, {'source': {'id': 'wired', 'name': 'Wired'}, 'author': 'Zeyi Yang', 'title': 'Chinese Companies Rush to Put DeepSeek in Everything', 'description': 'From video game developers to a nuclear power plant, companies across China are adopting DeepSeek’s AI models to boost stock prices and flaunt their national pride.', 'url': 'https://www.wired.com/story/deepseek-china-nationalism/', 'urlToImage': 'https://media.wired.com/photos/67c5f5496e5120fc90d42211/191:100/w_1280,c_limit/China-DeepSeek-AI-Business-2197000260.jpg', 'publishedAt': '2025-03-12T10:00:00Z', 'content': 'A mobile shooting game developed by Tencent is using DeepSeek to power an in-game assistant that can, among other things, give players fortune-telling readers about whether they are going to have a g… [+3020 chars]'}, {'source': {'id': 'the-verge', 'name': 'The Verge'}, 'author': 'Verge Press Room', 'title': 'The Verge hires Tina Nguyen as senior reporter to cover the Trump administration', 'description': 'Tina Nguyen is joining The Verge as a senior reporter, covering the Trump administration, Elon Muskâ\\x80\\x99s takeover of the federal government, and the tech industryâ\\x80\\x99s embrace of the MAGA movement. Nguyen joins The Verge from Puck, where she was a founding part…', 'url': 'https://www.theverge.com/press-room/621557/tina-nguyen-joins-verge', 'urlToImage': 'https://platform.theverge.com/wp-content/uploads/sites/2/2025/02/Tina_Portrait-_Horiz.jpg?quality=90&strip=all&crop=0%2C10.732984293194%2C100%2C78.534031413613&w=1200', 'publishedAt': '2025-02-28T19:15:04Z', 'content': 'Nguyen will cover the tech industrys embrace of the MAGA movement.\\r\\nNguyen will cover the tech industrys embrace of the MAGA movement.\\r\\nTina Nguyen is joining The Verge as a senior reporter, covering… [+3522 chars]'}, {'source': {'id': 'the-verge', 'name': 'The Verge'}, 'author': 'Jess Weatherbed', 'title': 'Apple will soon support encrypted RCS messaging with Android users', 'description': 'iPhone and Android users will be able to exchange end-to-end encrypted (E2EE) RCS messages in the near future thanks to newly updated RCS specifications. The GSM Association announced that the latest RCS standard includes E2EE based on the Messaging Layer Sec…', 'url': 'https://www.theverge.com/news/629620/apple-iphone-e2ee-encryption-rcs-messaging-android', 'urlToImage': 'https://platform.theverge.com/wp-content/uploads/sites/2/2025/02/STK071_APPLE_B.jpg?quality=90&strip=all&crop=0%2C10.732984293194%2C100%2C78.534031413613&w=1200', 'publishedAt': '2025-03-14T10:05:04Z', 'content': 'We will add support for end-to-end encrypted RCS messages to iOS, iPadOS, macOS, and watchOS in future software updates.\\r\\nWe will add support for end-to-end encrypted RCS messages to iOS, iPadOS, mac… [+1748 chars]'}, {'source': {'id': None, 'name': 'Yahoo Entertainment'}, 'author': 'Reuters Videos', 'title': 'Cellphone deepfake detection technology unveiled at MWC', 'description': \"STORY: :: Barcelona, SpainIt's a new line of defense against the rising prevalence of deepfakes.:: March 2, 2025All built into a mobile phone, one artificial...\", 'url': 'https://finance.yahoo.com/video/cellphone-deepfake-detection-technology-unveiled-142431681.html', 'urlToImage': 'https://media.zenfs.com/en/video.reutersnews.com/5ca3e3f24f0791a7a7f6f3e262199c8c', 'publishedAt': '2025-03-03T14:24:31Z', 'content': \"STORY: :: Barcelona, Spain\\r\\nIt's a new line of defense against the rising prevalence of deepfakes.\\r\\n:: March 2, 2025\\r\\nAll built into a mobile phone, one artificial intelligence claims it can snuff ou… [+1055 chars]\"}, {'source': {'id': 'wired', 'name': 'Wired'}, 'author': 'Kat Merck', 'title': 'GHD’s Chronos Max Review: High Tech, Not High Heat', 'description': 'This new wide-plate straightening iron has only one temperature setting, but that’s not necessarily a bad thing.', 'url': 'https://www.wired.com/review/ghd-chronos-max-hair-straightener/', 'urlToImage': 'https://media.wired.com/photos/67cc8e3ff03aeba6ea4a8208/191:100/w_1280,c_limit/GHD-Chronos-Max-Hair-Straightener-Abstract-Background-032025-SOURCE-Nordstrom.jpg', 'publishedAt': '2025-03-09T12:32:00Z', 'content': \"A too-high heat, like 450 degrees, can damage the hair strand's internal structure; the lowest setting damages the hair's cuticle layer without creating a long-lasting style. GHD has found the perfec… [+3199 chars]\"}, {'source': {'id': None, 'name': 'VentureBeat'}, 'author': 'Imran Khan', 'title': 'Insomniac’s VR titles delisted, casting a shadow over the technology', 'description': \"Insomniac's VR games are no longer for sale, suggesting that the VR market in particular may not be a welcome technology for older titles to thrive.\", 'url': 'https://venturebeat.com/games/insomniacs-vr-titles-delisted-casting-a-shadow-over-the-technology/', 'urlToImage': 'https://venturebeat.com/wp-content/uploads/2025/03/edgeofnowhere.jpg?w=1024?w=1200&strip=all', 'publishedAt': '2025-03-03T22:59:56Z', 'content': 'Before they became tied to the Spider-Man series of games and subsequently acquired to become a part of PlayStation Worldwide Studios, Burbank-based Insomniac Games dabbled in VR titles like The Edge… [+2669 chars]'}, {'source': {'id': 'business-insider', 'name': 'Business Insider'}, 'author': 'kbaker@insider.com (Kelsey Baker)', 'title': 'Top general warns Marines that their cellphones could get them killed in new video pointing out Russian catastrophes', 'description': '\"The character of war continues to change,\" the general said. \"The proliferation of technology has made signature management essential.\"', 'url': 'https://www.businessinsider.com/marine-general-warns-troops-cellphones-could-get-them-killed-video-2025-3', 'urlToImage': 'https://i.insider.com/67d9e378585f1dff88b285f7?width=1200&format=jpeg', 'publishedAt': '2025-03-18T21:53:56Z', 'content': \"The Marine Corps' top general sent a video reminder out to the force this week, cautioning troops that battlefield cellphone usage can have deadly consequences. It points to Russian disasters in Ukra… [+3525 chars]\"}, {'source': {'id': 'wired', 'name': 'Wired'}, 'author': 'WIRED Staff', 'title': 'Quantum Computing Is Dead. Long Live Quantum Computing!', 'description': 'Schrödinger’s cat is alive and dead at the same time. Ironically enough, so is quantum computing.', 'url': 'https://www.wired.com/story/quantum-computing-is-dead-alive/', 'urlToImage': 'https://media.wired.com/photos/67d9f9ce6396ce3e7514bf69/191:100/w_1280,c_limit/Quantum_Final.jpg', 'publishedAt': '2025-03-24T10:00:00Z', 'content': 'This is the year of quantum science and technology. Literally: The United Nations said so. But no amount of pomp and hype can make something true. The fact is, its been the year of quantum nearly eve… [+486 chars]'}, {'source': {'id': 'wired', 'name': 'Wired'}, 'author': 'Javier Carbajal', 'title': 'A Private Space Mission Just Successfully Landed on the Moon for the First Time', 'description': 'Firefly Aerospace’s Blue Ghost Mission 1 has touched down successfully, and marks a key milestone in NASA’s quest to have private companies deliver shipments of equipment to the lunar surface.', 'url': 'https://www.wired.com/story/a-private-space-mission-has-successfully-landed-on-the-moon-for-the-first-time-blue-ghost-firefly-aerospace/', 'urlToImage': 'https://media.wired.com/photos/67c5d61b6e5120fc90d421e4/191:100/w_1280,c_limit/54359866846_4937eb703f_k.jpg', 'publishedAt': '2025-03-03T18:52:22Z', 'content': 'With its Blue Ghost lunar module, Texas-based Firefly Aerospace has just achieved what no other private company, anywhere in the world, has ever accomplished: successfully landing on the surface of t… [+1964 chars]'}, {'source': {'id': 'the-verge', 'name': 'The Verge'}, 'author': 'Andrew Liszewski', 'title': 'The armless PP-1 turntable is made from a solid block of aluminum', 'description': 'A Paris-based creative studio has announced a minimalist turntable with controls streamlined to just a play button and a volume knob. Waiting For Ideas’ PP-1 — short for Plug and Play — doesn’t even have a visible tonearm, and it’s made from a solid block of …', 'url': 'https://www.theverge.com/news/621863/waiting-for-ideas-pp-1-turntable-solid-aluminum-vinyl-record', 'urlToImage': 'https://platform.theverge.com/wp-content/uploads/sites/2/2025/02/pp1_turntable1.jpg?quality=90&strip=all&crop=0%2C10.740836125969%2C100%2C78.518327748063&w=1200', 'publishedAt': '2025-02-28T20:30:58Z', 'content': 'You can show off your vinyl on the PP-1 which doesn’t have a visible tonearm or stylus. | Image: Waiting For Ideas\\r\\n\\n\\nA Paris-based creative studio has announced a minimalist turntable with controls … [+1855 chars]'}, {'source': {'id': None, 'name': 'CNET'}, 'author': 'Alexandra Jones', 'title': 'It Costs a Lot to Replace EV Batteries, but How Often Do You Need to?', 'description': 'Battery technology has made significant strides. With modern EV batteries now lasting over 100,000 miles, you might not feel the need to replace them.', 'url': 'https://www.cnet.com/home/electric-vehicles/it-costs-a-lot-replace-ev-batteries-but-how-often-do-you-need-to/', 'urlToImage': 'https://www.cnet.com/a/img/resize/651ecf22644d5d4248bb4ecec9e3446544cb2c08/hub/2023/03/06/db264935-bdc6-4d9f-bcef-560d33c1fcac/hyundai-kona-electric-732183.jpg?auto=webp&fit=crop&height=675&width=1200', 'publishedAt': '2025-02-27T19:20:00Z', 'content': 'Electric vehicles are becoming more affordable each year, with purchase prices now nearing those of gas-powered cars, as reported by the Washington Post.\\r\\nHowever, the debate between EVs and internal… [+8330 chars]'}, {'source': {'id': 'business-insider', 'name': 'Business Insider'}, 'author': 'Katherine Tangalakis-Lippert', 'title': '5 wild things quantum computing could unlock now that Big Tech believes a breakthrough is within reach', 'description': 'Big Tech companies are heavily invested in quantum computing development. While unstable, the technology could change medicine and other fields.', 'url': 'https://www.businessinsider.com/quantum-computing-could-improve-medicine-climate-logistics-world-hunger-2025-3', 'urlToImage': 'https://i.insider.com/67cbb4d469253ccddf98b07b?width=1200&format=jpeg', 'publishedAt': '2025-03-16T11:20:02Z', 'content': 'Once fault-tolerant quantum computers are here, they stand to revolutionize medicine, privacy, and more.SAMEER AL-DOUMY/AFP via Getty Images\\r\\n<ul><li>Big Tech companies are investing heavily in quant… [+6383 chars]'}, {'source': {'id': 'business-insider', 'name': 'Business Insider'}, 'author': 'sperkel@insider.com (Sarah Perkel)', 'title': \"The CEO of Anthropic thinks it may be impossible to warn people about the risks of AI — but he's still going to try\", 'description': 'Dario Amodei expects people to \"wake up\" to both the risks and rewards of the technology within the next two years.', 'url': 'https://www.businessinsider.com/anthropic-ceo-says-ai-risks-are-being-overlooked-2025-2', 'urlToImage': 'https://i.insider.com/67c21a6ab8b41a9673f95c0b?width=1200&format=jpeg', 'publishedAt': '2025-03-01T11:19:02Z', 'content': 'Anthropic CEO Dario Amodei said that people still aren\\'t taking AI seriously enough but he expects that to change within the next two years.\\r\\n\"I think people will wake up to both the risks and the be… [+3636 chars]'}, {'source': {'id': 'business-insider', 'name': 'Business Insider'}, 'author': 'Grace Kay', 'title': 'Tesla more than tripled the workers testing its self-driving technology in California', 'description': \"The increase in capability comes as Elon Musk's electric-vehicle maker aims to release its much-hyped Robotaxi in some cities by the end of 2025.\", 'url': 'https://www.businessinsider.com/tesla-autonomous-driving-california-robotaxi-2025-3', 'urlToImage': 'https://i.insider.com/66b0fbcfb4912df3ae18ec38?width=1200&format=jpeg', 'publishedAt': '2025-03-14T08:47:02Z', 'content': 'Tesla registered over 220 test drivers and 100 vehicles for an autonomous driving permit in California.Justin Sullivan/Getty Images\\r\\n<ul><li>Tesla registered over 220 test drivers and 100 vehicles fo… [+4877 chars]'}, {'source': {'id': 'business-insider', 'name': 'Business Insider'}, 'author': 'Lloyd Lee', 'title': 'VCs have poured billions into a nascent nuclear technology — these are the 4 companies to watch', 'description': \"Just 4 small modular reactor companies have received $3B in VC funding. But leading experts tell BI it's unclear if SMRs will solve AI energy needs.\", 'url': 'https://www.businessinsider.com/small-modular-reactor-venture-capital-ai-data-centers-2025-3', 'urlToImage': 'https://i.insider.com/67d0b804b8b41a9673fa58a3?width=1024&format=jpeg', 'publishedAt': '2025-03-16T09:20:01Z', 'content': 'The site of a small modular reactor in Changjiang Li Autonomous County, Hainan Province of China. The US does not have any operational SMRs.Luo Yunfei/China News Service/VCG via Getty Images\\r\\n<ul><li… [+9260 chars]'}, {'source': {'id': None, 'name': 'Gizmodo.com'}, 'author': 'Brittany Vincent', 'title': 'Sony Ult Wear Noise Cancelling Headphones Are Now at a Steal for $148, Way Cheaper Than AirPods Max', 'description': 'Enjoy your favorite music in a whole new way with Sony thanks to this discount.', 'url': 'https://gizmodo.com/sony-ult-wear-noise-cancelling-headphones-are-now-at-a-steal-for-148-way-cheaper-than-airpods-max-2000576011', 'urlToImage': 'https://gizmodo.com/app/uploads/2025/03/sonyultwear.jpg', 'publishedAt': '2025-03-14T15:25:52Z', 'content': 'The pursuit of perfect audio has led many enthusiasts down an expensive path, but true immersive sound doesn’t always require breaking the bank. Sony’s Ult Wear Over-Ear Noise Cancelling Headphones r… [+2599 chars]'}, {'source': {'id': None, 'name': 'Gizmodo.com'}, 'author': 'Sherri L Smith', 'title': 'What to Expect at Nvidia GTC 2025', 'description': 'Robots, quantum computing, and AI—so much AI. Nvidia GTC will be doing a deep dive into the future of AI, robotics and more.', 'url': 'https://gizmodo.com/what-to-expect-at-nvidia-gtc-2025-2000576285', 'urlToImage': 'https://gizmodo.com/app/uploads/2024/11/GettyImages-2183803143.jpg', 'publishedAt': '2025-03-15T11:00:09Z', 'content': 'Nvidias been on a roll this year, starting with the announcement and launch of its 5000 series GPUs. However, as the company’s annual GPU Technology Conference (GTC) starts next week, its clear that … [+2099 chars]'}, {'source': {'id': None, 'name': 'Gizmodo.com'}, 'author': 'Brittany Vincent', 'title': 'Forget JBL, This Anker Soundcore 2 Portable Speaker Drops to Just $28 for a Limited Time', 'description': 'This speaker has a lengthy battery life and everything you need to take the party wherever you go.', 'url': 'https://gizmodo.com/forget-jbl-this-anker-soundcore-2-portable-speaker-drops-to-just-28-for-a-limited-time-2000569042', 'urlToImage': 'https://gizmodo.com/app/uploads/2025/02/ansoundcore2.jpg', 'publishedAt': '2025-02-27T17:15:02Z', 'content': 'The Anker Soundcore 2 combines portability with impressive audio performance, offering a rugged, waterproof design that delivers rich sound wherever life takes you. This compact powerhouse features 1… [+2337 chars]'}, {'source': {'id': None, 'name': 'Hackaday'}, 'author': 'Al Williams', 'title': 'Wire Recording Speaks Again', 'description': 'If you think of old recording technology, you probably think of magnetic tape, either in some kind of cassette or, maybe, on reels. But there’s an even older technology that recorded voice on…', 'url': 'https://hackaday.com/2025/03/16/wire-recording-speaks-again/', 'urlToImage': 'https://hackaday.com/wp-content/uploads/2025/03/carlson1.png', 'publishedAt': '2025-03-17T02:00:12Z', 'content': 'If you think of old recording technology, you probably think of magnetic tape, either in some kind of cassette or, maybe, on reels. But there’s an even older technology that recorded voice on hair-th… [+1324 chars]'}, {'source': {'id': 'wired', 'name': 'Wired'}, 'author': 'Emily Mullin', 'title': 'Elon Musk’s Neuralink Files to Trademark ‘Telepathy’', 'description': 'The brain implant company cofounded by Elon Musk is moving to trademark several product names, including Telepathy and Telekinesis.', 'url': 'https://www.wired.com/story/elon-musks-neuralink-files-trademark-telepathy/', 'urlToImage': 'https://media.wired.com/photos/67cb2ff894310c43c2abbe97/191:100/w_1280,c_limit/Neuralink-Trademark-Applications-Science-1895290460.jpg', 'publishedAt': '2025-03-07T22:17:18Z', 'content': 'Elon Musks brain implant company, Neuralink, has filed applications with the United States Patent and Trademark Office (USPTO) to exclusively own the names Telepathy, Telekinesis, and others for futu… [+3022 chars]'}, {'source': {'id': 'business-insider', 'name': 'Business Insider'}, 'author': 'Taylor Rains', 'title': \"10 upgrades the FAA says it's making to flying safer\", 'description': 'Transportation Secretary Sean Duffy listed things like using AI to comb through safety reports and replacing old floppy disks with modern technology.', 'url': 'https://www.businessinsider.com/faa-upgrades-air-safety-dc-crash-2025-3', 'urlToImage': 'https://i.insider.com/67d0b003b8b41a9673fa57e6?width=1200&format=jpeg', 'publishedAt': '2025-03-11T22:01:15Z', 'content': 'Becoming an air traffic controller is a long and difficult process, and the job is equally stressful. But it comes with good pay.Michael Dwyer/AP\\r\\n<ul><li>The Department of Transportation announced a… [+4133 chars]'}, {'source': {'id': 'business-insider', 'name': 'Business Insider'}, 'author': 'Hasan Chowdhury', 'title': 'New AI models are running on just one or two chips. Will they trigger another DeepSeek moment for Nvidia?', 'description': 'New AI models from the likes of Google are showing that the technology can be run with just one or two Nvidia chips.', 'url': 'https://www.businessinsider.com/google-gemma-cohere-nvidia-chips-efficient-deepseek-2025-3', 'urlToImage': 'https://i.insider.com/67d410f1b8b41a9673faa6a7?width=1200&format=jpeg', 'publishedAt': '2025-03-14T13:05:27Z', 'content': 'Nvidia lost close to $600 billion in value over fears that more efficient AI would mean lower demand for its chips. I-Hwa Cheng/AFP/Getty Images\\r\\n<ul><li>New AI models are emerging that show they can… [+4792 chars]'}, {'source': {'id': 'business-insider', 'name': 'Business Insider'}, 'author': 'Alex Bitter,Emma Cosgrove', 'title': \"Nvidia's partnership with Taco Bell means AI could soon do more than take your drive-thru order\", 'description': 'Nvidia and Yum! Brands, the owner of Taco Bell, have a strategic partnership for AI, meaning the technology could extend beyond drive-thru orders.', 'url': 'https://www.businessinsider.com/nvidia-taco-bell-yum-team-up-on-ai-ordering-2025-3', 'urlToImage': 'https://i.insider.com/67d347f0b8b41a9673fa9e42?width=1200&format=jpeg', 'publishedAt': '2025-03-18T20:00:01Z', 'content': 'Yum! has been testing AI at some Taco Bell and Pizza Hut.Ethan Miller/Getty Images\\r\\n<ul><li>Taco Bell is using AI for drive-thru orders through a partnership with Nvidia.</li><li>Voice AI adoption is… [+3483 chars]'}, {'source': {'id': None, 'name': 'Gizmodo.com'}, 'author': 'Jesse Coburn, ProPublica', 'title': 'U.S. Housing Agency Considers Launching Crypto Experiment', 'description': 'HUD is pondering using the blockchain and a stablecoin. One HUD official derided it as “monopoly money.”', 'url': 'https://gizmodo.com/u-s-housing-agency-considers-launching-crypto-experiment-2000573596', 'urlToImage': 'https://gizmodo.com/app/uploads/2025/03/GettyImages-2203279232.jpg', 'publishedAt': '2025-03-09T17:50:56Z', 'content': 'ProPublica is a Pulitzer Prize-winning investigative newsroom. Sign up for The Big Story newsletter to receive stories like this one in your inbox.The U.S. Department of Housing and Urban Development… [+9853 chars]'}, {'source': {'id': 'wired', 'name': 'Wired'}, 'author': 'Steven Levy', 'title': 'Yahoo Is Still Here—and It Has Big Plans for AI', 'description': 'Even as Yahoo turns 30, CEO Jim Lanzone says the company is still in “building mode.”', 'url': 'https://www.wired.com/story/plaintext-yahoo-turns-30-jim-lanzone/', 'urlToImage': 'https://media.wired.com/photos/67db1e6a42afb537aee0c2a6/191:100/w_1280,c_limit/Plaintext-Jim-Lanzone-Business-1251945664jpg.jpg', 'publishedAt': '2025-03-21T14:00:00Z', 'content': 'In September 2021, Jim Lanzone took over a company whose name once embodied the go-go spirit of the internet but had, over the years, become a joke: Yahoo. He accepted the CEO post from the new priva… [+4722 chars]'}, {'source': {'id': None, 'name': 'Gizmodo.com'}, 'author': 'Thomas Maxwell', 'title': 'China Delays BYD Factory in Mexico Over Concerns Tech Will Leak to American Rivals', 'description': 'Spiderman pointing at Spiderman meme.', 'url': 'https://gizmodo.com/china-delays-byd-factory-in-mexico-over-concerns-tech-will-leak-to-american-rivals-2000578281', 'urlToImage': 'https://gizmodo.com/app/uploads/2025/03/GettyImages-2204851234.jpg', 'publishedAt': '2025-03-19T20:40:03Z', 'content': 'China is frequently a target of criticism over allegations that it does not innovate but instead exfiltrates intellectual property developed abroad and wins by undercutting rivals on price. Now that … [+3860 chars]'}, {'source': {'id': None, 'name': 'VentureBeat'}, 'author': 'Dean Takahashi', 'title': 'Livewire launches Gamer.ID identity solution for brands and agencies to reach gamers', 'description': 'Livewire, a game marketing startup, has launched Gamer.ID, a next-generation identity framework within its Gameview technology stack.', 'url': 'https://venturebeat.com/games/livewire-launches-gamer-id-identity-solution-for-brands-and-agencies-to-reach-gamers/', 'urlToImage': 'https://venturebeat.com/wp-content/uploads/2025/02/livewire.jpg?w=1024?w=1200&strip=all', 'publishedAt': '2025-02-25T14:15:00Z', 'content': 'Livewire, a game marketing startup, has launched Gamer.ID, a next-generation identity framework within its Gameview technology stack. \\r\\nPowered by Optables identity management and data collaboration … [+5905 chars]'}, {'source': {'id': 'the-verge', 'name': 'The Verge'}, 'author': 'Andrew J. Hawkins', 'title': 'GM taps Nvidia to boost its embattled self-driving projects', 'description': 'At Nvidia’s annual GTC conference in San Jose, Calif. today, the chipmaker announced it was teaming up with General Motors to develop next-generation cars, robots, and factories.\\xa0 GM says it will apply several of Nvidia’s products to its business, such as the…', 'url': 'https://www.theverge.com/news/631951/gm-nvidia-gtc-deal-cars-robots-factories', 'urlToImage': 'https://platform.theverge.com/wp-content/uploads/sites/2/2025/02/STK083_B_NVIDIA_C.jpg?quality=90&strip=all&crop=0%2C10.732984293194%2C100%2C78.534031413613&w=1200', 'publishedAt': '2025-03-18T17:54:11Z', 'content': 'The automaker will use the deep-pocketed tech giants chips and software to develop next-gen autonomous cars, robots, and manufacturing processes.\\r\\nThe automaker will use the deep-pocketed tech giants… [+3825 chars]'}, {'source': {'id': None, 'name': 'Gizmodo.com'}, 'author': 'Brittany Vincent', 'title': 'Amazon Offers a Self-Heating Coffee Mug at an All-Time Low to Clear Out Stock', 'description': 'Your cup of Joe can remain eternally hot with this discounted Nextmug.', 'url': 'https://gizmodo.com/amazon-offers-a-self-heating-coffee-mug-at-an-all-time-low-to-clear-out-stock-2000572344', 'urlToImage': 'https://gizmodo.com/app/uploads/2025/03/nextmug.jpg', 'publishedAt': '2025-03-06T21:20:26Z', 'content': 'For coffee enthusiasts who’ve experienced the disappointment of a lukewarm brew, the Nextmug Temperature-Controlled Self-Heating Coffee Mug offers an elegant solution. This innovative mug, designed i… [+2854 chars]'}, {'source': {'id': None, 'name': 'BBC News'}, 'author': None, 'title': \"Subsea fibre cables can 'listen out' for sabotage\", 'description': 'Ways are being developed for subsea cables to \"sense\" whether they are being disturbed or attacked.', 'url': 'https://www.bbc.com/news/articles/cn52rglxr62o', 'urlToImage': 'https://ichef.bbci.co.uk/news/1024/branded_news/127b/live/0ffa6830-eecd-11ef-bd1b-d536627785f2.jpg', 'publishedAt': '2025-03-18T01:27:38Z', 'content': 'Chris Baraniuk\\r\\nSubsea cables are critical to the operation of the internet\\r\\nThe diver had found the fibre optic cable lying on the seabed of the North Sea. He swam closer, until it was near enough t… [+6780 chars]'}, {'source': {'id': None, 'name': 'Yahoo Entertainment'}, 'author': 'Neena Mishra', 'title': \"Quantum Computing: Tech's Next Giant Leap?\", 'description': 'Recent developments suggest this futuristic technology is inching closer to reality.', 'url': 'https://finance.yahoo.com/news/quantum-computing-techs-next-giant-201200500.html', 'urlToImage': 'https://media.zenfs.com/en/zacks.com/005dc0f87f83d9178f77210ccb9226a7', 'publishedAt': '2025-03-24T20:12:00Z', 'content': '<ul><li>(2:00) - Key Takeaways From Nvidia GTC 2025\\r\\n</li><li>(6:50) - What To Learn From Nvidia’s Quantum Day Events\\r\\n</li><li>(13:30) - What Investors Need To Know About D-wave Quantum Computing\\r\\n<… [+5413 chars]'}, {'source': {'id': None, 'name': 'Slashdot.org'}, 'author': 'msmash', 'title': 'Sony Unveils RGB LED Backlight Tech That Outperforms Traditional Mini LED', 'description': 'Sony has developed a new TV display technology combining individual red, green, and blue LEDs for backlighting, potentially offering a middle ground between existing Mini LED and OLED panels. Dubbed \"General RGB LED Backlight Technology,\" the system enables p…', 'url': 'https://entertainment.slashdot.org/story/25/03/19/0743248/sony-unveils-rgb-led-backlight-tech-that-outperforms-traditional-mini-led', 'urlToImage': 'https://a.fsdn.com/sd/topics/sony_64.png', 'publishedAt': '2025-03-19T14:00:00Z', 'content': 'Sony has developed a new TV display technology combining individual red, green, and blue LEDs for backlighting, potentially offering a middle ground between existing Mini LED and OLED panels. Dubbed … [+1065 chars]'}, {'source': {'id': None, 'name': 'Gizmodo.com'}, 'author': 'Justin Carter', 'title': 'Power Rangers May Get an AI-Boosted Remaster', 'description': \"As Hasbro tries to figure out what to do with Power Rangers, the show's older seasons may get upscaled with some help from generative AI.\", 'url': 'https://gizmodo.com/power-rangers-may-get-an-ai-boosted-remaster-2000570522', 'urlToImage': 'https://gizmodo.com/app/uploads/2025/01/mighty-morphin-power-rangers-zack-jason.jpg', 'publishedAt': '2025-03-02T15:30:39Z', 'content': 'As the world waits to see what’s next for\\xa0Power Rangers,\\xa0the superhero franchise may return to its past with the help of generative AI.\\r\\nDuring this weekend’s New York Toy Fair, attendees learned Pla… [+2001 chars]'}, {'source': {'id': None, 'name': 'Gizmodo.com'}, 'author': 'Brittany Vincent', 'title': 'Shark FlexStyle Styling System Hits a Record Low of $250, the Dyson Airwrap Alternative You Need', 'description': 'Why wait? Shark FlexStyle is at its best price ever, $350 cheaper than Dyson.', 'url': 'https://gizmodo.com/shark-flexstyle-styling-system-hits-a-record-low-of-250-the-dyson-airwrap-alternative-you-need-2000573444', 'urlToImage': 'https://gizmodo.com/app/uploads/2025/03/shrkflex.jpg', 'publishedAt': '2025-03-10T15:15:52Z', 'content': 'The Shark FlexStyle represents a revolutionary approach to hair styling, combining the versatility of a multi-styler with the power of a premium hair dryer. This innovative system transforms from a p… [+2669 chars]'}, {'source': {'id': None, 'name': 'Gizmodo.com'}, 'author': 'Brittany Vincent', 'title': 'The Dyson Hot and Cool Purifier Drops to Its Lowest Price, Save $130 on Year-Round Air Treatment', 'description': \"Meet all your heating and cooling needs with a single appliance – and save some big cash while you're at it.\", 'url': 'https://gizmodo.com/the-dyson-hot-and-cool-purifier-drops-to-its-lowest-price-save-130-on-year-round-air-treatment-2000575942', 'urlToImage': 'https://gizmodo.com/app/uploads/2025/03/dysonhotcool.jpg', 'publishedAt': '2025-03-14T14:15:41Z', 'content': 'Looking for a single solution to your year-round air quality and temperature needs? The Dyson Purifier Hot + Cool Gen 1 stands as one of the most versatile home appliances on the market, combining po… [+2772 chars]'}, {'source': {'id': None, 'name': 'Gizmodo.com'}, 'author': 'Brittany Vincent', 'title': 'Theater-Like Audio for Just $100, Amazon Fire TV Soundbar Makes It Possible', 'description': 'It fits right into your Amazon Fire ecosystem and it connects quickly and seamlessly.', 'url': 'https://gizmodo.com/theater-like-audio-for-just-100-amazon-fire-tv-soundbar-makes-it-possible-2000572335', 'urlToImage': 'https://gizmodo.com/app/uploads/2025/03/firetvsoundbar.jpg', 'publishedAt': '2025-03-06T16:10:19Z', 'content': 'Looking to upgrade your TV’s audio without breaking the bank? Amazon’s Fire TV Soundbar offers a compelling solution for anyone seeking better sound quality than their TV’s built-in speakers can prov… [+2529 chars]'}, {'source': {'id': None, 'name': 'Gizmodo.com'}, 'author': 'Brittany Vincent', 'title': 'Apple Watch Series 10 Just Hit Its Lowest Price Since Launch, $100 Off on Amazon for a Limited Time', 'description': \"It's time for a smartwatch upgrade, and these major Apple Watch savings are well worth your time.\", 'url': 'https://gizmodo.com/apple-watch-series-10-just-hit-its-lowest-price-since-launch-100-off-on-amazon-for-a-limited-time-2000573441', 'urlToImage': 'https://gizmodo.com/app/uploads/2025/03/apwatch10.jpg', 'publishedAt': '2025-03-10T12:40:50Z', 'content': 'The Apple Watch Series 10 represents the pinnacle of wearable technology, combining advanced health monitoring, fitness tracking, and smart features in a sleeker, more refined design. With a larger d… [+2647 chars]'}, {'source': {'id': None, 'name': 'Gizmodo.com'}, 'author': 'Brittany Vincent', 'title': 'Samsung Galaxy S25 Ultra Price Drop Makes It Cheaper Than a Galaxy Watch Ultra With Huge Trade-In Savings', 'description': 'Save up to $1,200+ on Samsung Galaxy s25 Ultra. Get up to $900 instant trade-in credit and up to $300 Samsung credits.', 'url': 'https://gizmodo.com/samsung-galaxy-s25-ultra-price-drop-makes-it-cheaper-than-a-galaxy-watch-ultra-with-huge-trade-in-savings-2000568084', 'urlToImage': 'https://gizmodo.com/app/uploads/2025/01/s25ultra-1.jpg', 'publishedAt': '2025-02-26T12:50:01Z', 'content': 'Samsung’s Galaxy S25 Ultra represents the pinnacle of smartphone technology, pushing boundaries with its premium design, cutting-edge camera system, and powerful performance capabilities. As the late… [+2494 chars]'}, {'source': {'id': None, 'name': 'Gizmodo.com'}, 'author': 'Sherri L Smith', 'title': 'Bless the Modder Who Is Fixing AMD’s Newest GPUs', 'description': \"Modders FTW! Modder HighYield shows off free app that brings AMD's FSR 4 tech to more games.\", 'url': 'https://gizmodo.com/bless-the-modder-who-is-fixing-amds-newest-gpus-2000576983', 'urlToImage': 'https://gizmodo.com/app/uploads/2025/03/optiscaler-mod-amd-fsr-4.jpg', 'publishedAt': '2025-03-17T20:12:31Z', 'content': 'You save up your hard-earned money to invest in a new graphics card for your PC, snagged your new prized possession, and life is good. Youre gaming with smooth renders, negligible latency, and bliste… [+2297 chars]'}, {'source': {'id': 'the-verge', 'name': 'The Verge'}, 'author': 'Emma Roth', 'title': 'TSMC announces $100 billion investment in US chipmaking', 'description': 'Taiwan Semiconductor Manufacturing Co. – the world’s biggest chipmaker – will invest at least $100 billion to expand chip manufacturing in the US. During a press conference on Monday, President Donald Trump said the funding would go toward building two additi…', 'url': 'https://www.theverge.com/news/623335/tsmc-chip-factories-100-billion-trump', 'urlToImage': 'https://platform.theverge.com/wp-content/uploads/sites/2/2025/03/acastro_210430_1777_semiCon_0001.jpg?quality=90&strip=all&crop=0%2C10.732984293194%2C100%2C78.534031413613&w=1200', 'publishedAt': '2025-03-03T21:23:11Z', 'content': 'TSMC will build two new chip factories in addition to the three it announced previously.\\r\\nTSMC will build two new chip factories in addition to the three it announced previously.\\r\\nTaiwan Semiconducto… [+1731 chars]'}, {'source': {'id': None, 'name': 'Seths.blog'}, 'author': 'Seth Godin', 'title': 'Bad design might simply be obsolete design', 'description': 'Perhaps you’ve encountered a sink with two taps, not one. One for hot, one for cold, without a chance to mix them before you scald or chill yourself. It seems absurd that the folks who figured out the technology to build sinks with running water couldn’t be b…', 'url': 'https://seths.blog/2025/03/bad-design-might-simply-be-obsolete-design/', 'urlToImage': 'https://seths.blog/wp-content/uploads/2018/06/seth_godin_ogimages_v02_1806132-1.jpg', 'publishedAt': '2025-03-15T09:03:00Z', 'content': 'Perhaps you’ve encountered a sink with two taps, not one. One for hot, one for cold, without a chance to mix them before you scald or chill yourself.\\r\\nIt seems absurd that the folks who figured out t… [+664 chars]'}, {'source': {'id': 'the-verge', 'name': 'The Verge'}, 'author': 'David Pierce', 'title': 'The high stakes for AI Alexa', 'description': 'Amazon has been trying to make virtual assistants happen for more than a decade. Alexa is, by many definitions, wildly successful, but it has so far failed to become the kind of omnipresent, omnipotent helper the company imagines. (It has also, by all account…', 'url': 'https://www.theverge.com/the-vergecast/621514/alexa-plus-amazon-ai-vergecast', 'urlToImage': 'https://platform.theverge.com/wp-content/uploads/sites/2/2025/02/VST_0228_Site.jpg?quality=90&strip=all&crop=0%2C10.732984293194%2C100%2C78.534031413613&w=1200', 'publishedAt': '2025-02-28T14:30:37Z', 'content': 'On The Vergecast: Alexa Plus, the Sigma BF, and YouTube podcasts.\\r\\nOn The Vergecast: Alexa Plus, the Sigma BF, and YouTube podcasts.\\r\\nAmazon has been trying to make virtual assistants happen for more… [+1646 chars]'}, {'source': {'id': 'the-verge', 'name': 'The Verge'}, 'author': 'Lauren Feiner', 'title': 'Democratic FCC Commissioner Geoffrey Starks will resign this spring', 'description': 'Federal Communications Commission Chair Brendan Carr could get a Republican majority slightly sooner than expected after Democratic Commissioner Geoffrey Starks announced Tuesday he plans to resign this spring. Starks announced his plans in a statement, but d…', 'url': 'https://www.theverge.com/news/631833/democratic-fcc-commissioner-geoffrey-starks-resigns', 'urlToImage': 'https://platform.theverge.com/wp-content/uploads/sites/2/2025/03/gettyimages-1192126914.jpg?quality=90&strip=all&crop=0%2C10.732984293194%2C100%2C78.534031413613&w=1200', 'publishedAt': '2025-03-18T18:30:11Z', 'content': 'WASHINGTON, DC – DECEMBER 05: Federal Communication Commission Commissioner Geoffrey Starks testifies before the House Energy and Commerce Committee’s Communications and Technology Subcommittee in th… [+1942 chars]'}, {'source': {'id': None, 'name': 'Interesting Engineering'}, 'author': 'Chris Young', 'title': 'China claims its stealth drones fly 3x longer using 50% less energy than US rivals', 'description': \"China's next-generation drone technology allegedly lasts three times as long as the US equivalent, while using half the energy.\", 'url': 'https://interestingengineering.com/innovation/china-stealth-drones-ahead-of-darpas', 'urlToImage': 'https://media.zenfs.com/en/interesting_engineering_646/d513ed9a672f643635aac864c611a939', 'publishedAt': '2025-03-18T14:49:58Z', 'content': 'China has allegedly taken over the US in the development of a state-of-the-art new stealth aircraft, a report from the South China Morning Post (SCMP) reveals.\\r\\nNewly published research shows that Be… [+3011 chars]'}, {'source': {'id': None, 'name': 'Yahoo Entertainment'}, 'author': None, 'title': \"Energy firm sets world record with 'champion cell' technology: 'This result is laying the groundwork'\", 'description': None, 'url': 'https://consent.yahoo.com/v2/collectConsent?sessionId=1_cc-session_16c0dd5c-9c5e-4916-bb09-ce68bad42b68', 'urlToImage': None, 'publishedAt': '2025-03-10T10:45:13Z', 'content': \"If you click 'Accept all', we and our partners, including 238 who are part of the IAB Transparency &amp; Consent Framework, will also store and/or access information on a device (in other words, use … [+702 chars]\"}, {'source': {'id': None, 'name': 'Yahoo Entertainment'}, 'author': None, 'title': 'Hometown CEO Nick Mirisis on Building the Kind of Technology School Administrators, Athletic Directors Actually Need', 'description': None, 'url': 'https://consent.yahoo.com/v2/collectConsent?sessionId=1_cc-session_58920f00-9cc3-405c-ae6a-0ddc0f2cc5a1', 'urlToImage': None, 'publishedAt': '2025-03-17T12:03:29Z', 'content': \"If you click 'Accept all', we and our partners, including 238 who are part of the IAB Transparency &amp; Consent Framework, will also store and/or access information on a device (in other words, use … [+702 chars]\"}, {'source': {'id': None, 'name': 'Yahoo Entertainment'}, 'author': None, 'title': 'IBM wins UK lawsuit against LzLabs over alleged theft of mainframe technology', 'description': None, 'url': 'https://consent.yahoo.com/v2/collectConsent?sessionId=1_cc-session_3c41933e-98dc-40a9-bb32-7ca63680dbcb', 'urlToImage': None, 'publishedAt': '2025-03-10T11:48:08Z', 'content': \"If you click 'Accept all', we and our partners, including 238 who are part of the IAB Transparency &amp; Consent Framework, will also store and/or access information on a device (in other words, use … [+702 chars]\"}, {'source': {'id': 'the-verge', 'name': 'The Verge'}, 'author': 'Abigail Bassett', 'title': 'Mercedes-Benz is hedging its bets with rebooted CLA sedan', 'description': 'Mercedes-Benz’s electric vehicles aren’t exactly selling like hotcakes. The EQS, EQE, and EQB have largely flopped, forcing the company to make significant changes to its electrification plans.\\xa0\\xa0 While the automaker has scaled back its ambitions, it’s not aba…', 'url': 'https://www.theverge.com/news/628464/mercedes-benz-cla-ev-hybrid-mma-platform', 'urlToImage': 'https://platform.theverge.com/wp-content/uploads/sites/2/2025/03/25C0035_003.jpg?quality=90&strip=all&crop=0%2C10.729026323664%2C100%2C78.541947352673&w=1200', 'publishedAt': '2025-03-13T16:27:04Z', 'content': 'The automaker plans to offer electric, hybrid, and gas versions of the upcoming model all built on the new MMA platform.\\r\\nThe automaker plans to offer electric, hybrid, and gas versions of the upcomi… [+6722 chars]'}, {'source': {'id': 'wired', 'name': 'Wired'}, 'author': 'João Medeiros', 'title': 'Want to Live Longer, Healthier, and Happier? Then Cultivate Your Social Connections', 'description': 'Chronic loneliness can increase cortisol and inflammation and weaken your immune system, says social scientist Kasley Killiam. She argues it’s time to accept that good quality social connections are a fundamental human need.', 'url': 'https://www.wired.com/story/want-to-live-longer-healthier-and-happier-cultivate-your-social-connections-wired-health-kasley-killam/', 'urlToImage': 'https://media.wired.com/photos/67c9b4e73d233501b18c74a2/191:100/w_1280,c_limit/WH2C0055.jpg', 'publishedAt': '2025-03-07T10:00:00Z', 'content': 'Social scientist Kasley Killam has always been fascinated by the science of human connection. In college, for instance, she once decided to conduct a personal experiment and perform an act of kindnes… [+3758 chars]'}, {'source': {'id': None, 'name': 'Hackaday'}, 'author': 'Bryan Cockfield', 'title': 'Import GPU: Python Programming with CUDA', 'description': 'Every few years or so, a development in computing results in a sea change and a need for specialized workers to take advantage of the new technology. Whether that’s COBOL in the 60s and 70s, …', 'url': 'https://hackaday.com/2025/02/25/import-gpu-python-programming-with-cuda/', 'urlToImage': 'https://hackaday.com/wp-content/uploads/2025/02/gpu-main.png', 'publishedAt': '2025-02-26T03:00:30Z', 'content': 'Every few years or so, a development in computing results in a sea change and a need for specialized workers to take advantage of the new technology. Whether that’s COBOL in the 60s and 70s, HTML in … [+1887 chars]'}, {'source': {'id': None, 'name': 'BBC News'}, 'author': None, 'title': 'Prince William to visit British troops in Estonia', 'description': \"He will learn more about how British troops are bolstering Nato's eastern flank, the palace said.\", 'url': 'https://www.bbc.com/news/articles/clyz3d514w0o', 'urlToImage': 'https://ichef.bbci.co.uk/news/1024/branded_news/ebdf/live/7a5fa4a0-ff36-11ef-a8b1-950887ddc6e5.jpg', 'publishedAt': '2025-03-12T12:03:30Z', 'content': 'The Prince of Wales will make his first visit to Estonia at the end of next week to meet British troops providing a deterrent to Russian aggression in the region.\\r\\nPrince William will travel in his r… [+497 chars]'}, {'source': {'id': None, 'name': 'VentureBeat'}, 'author': 'Michael Nuñez', 'title': 'Patronus AI’s Judge-Image wants to keep AI honest — and Etsy is already using it', 'description': 'Patronus AI launches the first multimodal LLM-as-a-Judge for evaluating AI systems that process images, with Etsy already implementing the technology to validate product image captions across its marketplace.', 'url': 'https://venturebeat.com/ai/patronus-ais-judge-image-wants-to-keep-ai-honest-and-etsy-is-already-using-it/', 'urlToImage': 'https://venturebeat.com/wp-content/uploads/2025/03/nuneybits_Vector_art_of_a_robot_in_a_judges_clothes_courtoom_ga_dfb49cec-3315-4e40-9b41-17080d5fe70d.webp?w=1024?w=1200&strip=all', 'publishedAt': '2025-03-13T16:00:00Z', 'content': 'Join our daily and weekly newsletters for the latest updates and exclusive content on industry-leading AI coverage. Learn More\\r\\nPatronus AI announced today the launch of what it calls the industrys f… [+6223 chars]'}, {'source': {'id': None, 'name': 'CNET'}, 'author': 'Omar Gallaga', 'title': \"China's BYD Claims 5-Minute EV Battery Charge Gives 250 Miles of Range\", 'description': 'An apparent battery breakthrough could be good news for the EV industry from a Chinese company that previously pledged to work with Tesla.', 'url': 'https://www.cnet.com/home/electric-vehicles/chinas-byd-claims-5-minute-ev-battery-charging-gives-250-miles-of-range/', 'urlToImage': 'https://www.cnet.com/a/img/resize/f183835b97e257af64efb187474d782c5614fac4/hub/2025/03/18/448efd44-d3c0-426b-aad7-314fca5b446f/gettyimages-2153819146.jpg?auto=webp&fit=crop&height=675&width=1200', 'publishedAt': '2025-03-18T15:03:00Z', 'content': 'Chinese auto manufacturer BYD says it has developed technology that speeds up electric vehicle battery charging to as little as five minutes at 1,000 kilowatts, providing enough energy for nearly 250… [+684 chars]'}, {'source': {'id': None, 'name': 'Gizmodo.com'}, 'author': 'James Whitbrook', 'title': 'This Is the Best Scene in Star Trek: Voyager‘s First Season', 'description': \"30 years ago today, the ending of 'Prime Factors' wrote a check that Voyager's episodic nature could rarely cash–but it was still worth writing anyway.\", 'url': 'https://gizmodo.com/star-trek-voyager-best-scene-prime-factors-30th-anniversary-janeway-tuvok-2000578836', 'urlToImage': 'https://gizmodo.com/app/uploads/2025/03/Star-Trek-Voyager-Prime-Factors-Janeway-Tuvok.jpg', 'publishedAt': '2025-03-20T22:32:17Z', 'content': 'Star Trek has always found great strength in the episodic format. Sure, the classic shows all dabbled in serialized elements, and some of them excelled in those elements the further they played with … [+7479 chars]'}, {'source': {'id': 'wired', 'name': 'Wired'}, 'author': 'Lily Hay Newman', 'title': 'A Team of Female Founders Is Launching Cloud Security Tech That Could Overhaul AI Protection', 'description': 'Cloud “container” defenses have inconsistencies that can give attackers too much access. A new company, Edera, is taking on that challenge and the problem of the male-dominated startup world.', 'url': 'https://www.wired.com/story/edera-cloud-tech-security/', 'urlToImage': 'https://media.wired.com/photos/67bde7d3ee6254fbc47f5203/191:100/w_1280,c_limit/cloud-security-1834994607.jpg', 'publishedAt': '2025-02-25T19:43:33Z', 'content': 'While working on internet-of-things security in the mid-2010s, Alex Zenla realized something troubling.\\r\\nUnlike PCs and servers that touted the latest, greatest processors, the puny chips in IoT devi… [+3929 chars]'}, {'source': {'id': 'wired', 'name': 'Wired'}, 'author': 'Simon Hill, Julian Chokkattu', 'title': 'The Weird and Wacky Gadgets We Saw at MWC 2025', 'description': \"Look past the glitzy phone launches, and you'll find some truly bizarre, sometimes ingenious devices and concepts lurking in the halls of Mobile World Congress.\", 'url': 'https://www.wired.com/story/weird-and-wacky-gadgets-at-mwc-2025/', 'urlToImage': 'https://media.wired.com/photos/67c864cc7a63830fbeaa225c/191:100/w_1280,c_limit/Gadgets%20at%20MWC%2025%20Reviewer%20Collage%20032025%20SOURCE%20Simon%20Hill%20(2).jpg', 'publishedAt': '2025-03-05T18:51:14Z', 'content': 'Infinix says the case stores up to 2 watts of this energy and transfers it to the phone when needed. The company also claims the case employs its Sunflower wireless charging technology, inspired by p… [+5347 chars]'}, {'source': {'id': None, 'name': 'BBC News'}, 'author': None, 'title': 'Window cleaner in quest to confirm priceless Shakespeare portrait', 'description': 'A window cleaner from Tring believes he has an authentic portrait of Shakespeare.', 'url': 'https://www.bbc.com/news/articles/c5yr37nlzv8o', 'urlToImage': 'https://ichef.bbci.co.uk/news/1024/branded_news/5c8f/live/607e9900-065d-11f0-8c34-4f174fb5fd08.jpg', 'publishedAt': '2025-03-22T06:14:26Z', 'content': 'Eric Johnson &amp; Louise Parry\\r\\nArt experts are divided on whether this is a genuine contemporary portrait of Shakespeare\\r\\nWindow cleaner Steven Wadlow has spent more than a decade trying to prove h… [+4661 chars]'}, {'source': {'id': None, 'name': 'Gizmodo.com'}, 'author': 'Ed Cara', 'title': 'A Protein Borrowed From Tardigrades Could Give Us Radiation Body Armor', 'description': 'Experimental research by MIT scientists and others might someday lead to less painful cancer treatment.', 'url': 'https://gizmodo.com/a-protein-borrowed-from-tardigrades-could-give-us-radiation-body-armor-2000569388', 'urlToImage': 'https://gizmodo.com/app/uploads/2025/02/tardigrade.jpg', 'publishedAt': '2025-02-27T21:40:20Z', 'content': 'The strangely adorable and resilient tardigrade, or water bear, just might hold the key to making cancer treatment a lot more (water-) bearable. That’s because a team of researchers just found eviden… [+3549 chars]'}, {'source': {'id': None, 'name': 'Gizmodo.com'}, 'author': 'Passant Rabie', 'title': 'Trump’s Dismantling of NASA Has Officially Begun', 'description': 'Newly announced layoffs highlight the troubling impact of DOGE on the space agency and federal workers as a whole.', 'url': 'https://gizmodo.com/nasa-closes-offices-reduces-workforce-following-trumps-executive-orders-2000574340', 'urlToImage': 'https://gizmodo.com/app/uploads/2025/03/Artemis-I-Stack-Ready-to-Roll.jpg', 'publishedAt': '2025-03-11T17:05:03Z', 'content': 'NASA has begun implementing its reduction in force (RIF) approach, closing three offices and laying off staff in compliance with executive orders by the new administration that target the federal wor… [+3077 chars]'}, {'source': {'id': None, 'name': 'Gizmodo.com'}, 'author': 'AJ Dellinger', 'title': 'Trump’s FCC Head Warns EU Content Rules ‘Incompatible’ With Free Speech', 'description': \"It's the latest warning from the Trump administration that it wants Big Tech left alone.\", 'url': 'https://gizmodo.com/trumps-fcc-head-warns-eu-content-rules-incompatible-with-free-speech-2000570843', 'urlToImage': 'https://gizmodo.com/app/uploads/2025/03/GettyImages-1192127005.jpg', 'publishedAt': '2025-03-03T19:45:33Z', 'content': 'The European Union wants social media companies like Facebook, Instagram, and X to do more to crack down on illegal content like hate speech and child sexual abuse material. The Trump administration … [+3448 chars]'}, {'source': {'id': None, 'name': 'Gizmodo.com'}, 'author': 'Ed Cara', 'title': 'Patient With Artificial Heart Smashes Survival Record', 'description': 'The patient, an Australian man in his 40s, lived with his fully functional heart implant long enough to be discharged from the hospital.', 'url': 'https://gizmodo.com/patient-with-artificial-heart-smashes-survival-record-2000574948', 'urlToImage': 'https://gizmodo.com/app/uploads/2025/03/BiVACOR.jpg', 'publishedAt': '2025-03-15T10:00:09Z', 'content': 'An Australian man has become a medical marvel thanks to his groundbreaking artificial heart. The man’s doctors reported this week that he was the first person in the world to be discharged from the h… [+3192 chars]'}, {'source': {'id': None, 'name': 'Hackaday'}, 'author': 'Al Williams', 'title': 'Tearing Down a Vintage Word Processor', 'description': 'There was a time when the line between typewriters and word processing software was a bit fuzzy. [Poking Technology] found a Xerox 6040 which can’t decide what it is. It looks like a typewrit…', 'url': 'https://hackaday.com/2025/03/07/tearing-down-a-vintage-word-processor/', 'urlToImage': 'https://hackaday.com/wp-content/uploads/2025/03/wp.png', 'publishedAt': '2025-03-08T00:00:43Z', 'content': 'There was a time when the line between typewriters and word processing software was a bit fuzzy. [Poking Technology] found a Xerox 6040 which can’t decide what it is. It looks like a typewriter but h… [+1089 chars]'}, {'source': {'id': None, 'name': 'Hackaday'}, 'author': 'Navarre Bartz', 'title': 'How Do Air Fryers Work?', 'description': 'Air fryers are the new hotness in the kitchen, but are they actually any different than a convection oven? [Technology Connections] walks us through the design of these countertop appliances …read more', 'url': 'https://hackaday.com/2025/02/27/how-do-air-fryers-work/', 'urlToImage': 'https://hackaday.com/wp-content/uploads/2025/02/Air-fryers-are-simpler-than-you-think-but-still-pretty-neat-YouTube-0-7-40.jpeg', 'publishedAt': '2025-02-27T16:30:28Z', 'content': 'Air fryers are the new hotness in the kitchen, but are they actually any different than a convection oven? [Technology Connections] walks us through the design of these countertop appliances to find … [+1373 chars]'}]}\n"
          ]
        }
      ]
    },
    {
      "cell_type": "code",
      "source": [
        "df.to_csv(\"news_data.csv\", index=False)\n"
      ],
      "metadata": {
        "id": "lNEIj5yX57qN"
      },
      "execution_count": null,
      "outputs": []
    },
    {
      "cell_type": "code",
      "source": [
        "from google.colab import files\n",
        "files.download(\"news_data.csv\")\n"
      ],
      "metadata": {
        "colab": {
          "base_uri": "https://localhost:8080/",
          "height": 17
        },
        "id": "j2ZvEAtA5_me",
        "outputId": "6fed7c89-3093-4d3b-cdbe-d728d97f280b"
      },
      "execution_count": null,
      "outputs": [
        {
          "output_type": "display_data",
          "data": {
            "text/plain": [
              "<IPython.core.display.Javascript object>"
            ],
            "application/javascript": [
              "\n",
              "    async function download(id, filename, size) {\n",
              "      if (!google.colab.kernel.accessAllowed) {\n",
              "        return;\n",
              "      }\n",
              "      const div = document.createElement('div');\n",
              "      const label = document.createElement('label');\n",
              "      label.textContent = `Downloading \"${filename}\": `;\n",
              "      div.appendChild(label);\n",
              "      const progress = document.createElement('progress');\n",
              "      progress.max = size;\n",
              "      div.appendChild(progress);\n",
              "      document.body.appendChild(div);\n",
              "\n",
              "      const buffers = [];\n",
              "      let downloaded = 0;\n",
              "\n",
              "      const channel = await google.colab.kernel.comms.open(id);\n",
              "      // Send a message to notify the kernel that we're ready.\n",
              "      channel.send({})\n",
              "\n",
              "      for await (const message of channel.messages) {\n",
              "        // Send a message to notify the kernel that we're ready.\n",
              "        channel.send({})\n",
              "        if (message.buffers) {\n",
              "          for (const buffer of message.buffers) {\n",
              "            buffers.push(buffer);\n",
              "            downloaded += buffer.byteLength;\n",
              "            progress.value = downloaded;\n",
              "          }\n",
              "        }\n",
              "      }\n",
              "      const blob = new Blob(buffers, {type: 'application/binary'});\n",
              "      const a = document.createElement('a');\n",
              "      a.href = window.URL.createObjectURL(blob);\n",
              "      a.download = filename;\n",
              "      div.appendChild(a);\n",
              "      a.click();\n",
              "      div.remove();\n",
              "    }\n",
              "  "
            ]
          },
          "metadata": {}
        },
        {
          "output_type": "display_data",
          "data": {
            "text/plain": [
              "<IPython.core.display.Javascript object>"
            ],
            "application/javascript": [
              "download(\"download_4083ff7f-e68b-4901-8c18-985fee789771\", \"news_data.csv\", 25943)"
            ]
          },
          "metadata": {}
        }
      ]
    },
    {
      "cell_type": "code",
      "source": [
        "import os\n",
        "\n",
        "if os.path.exists(\"news_data.csv\"):\n",
        "    print(\"File exists!\")\n",
        "else:\n",
        "    print(\"File not found! Check if it was saved correctly.\")\n"
      ],
      "metadata": {
        "colab": {
          "base_uri": "https://localhost:8080/"
        },
        "id": "L_w66WEc7-T5",
        "outputId": "63561a3f-599f-4d62-9e46-c9108e4d9bda"
      },
      "execution_count": null,
      "outputs": [
        {
          "output_type": "stream",
          "name": "stdout",
          "text": [
            "File exists!\n"
          ]
        }
      ]
    },
    {
      "cell_type": "code",
      "source": [
        "print(f\"Total articles collected: {len(news_list)}\")\n",
        "print(news_list[:3])  # Print first 3 articles\n",
        "\n"
      ],
      "metadata": {
        "colab": {
          "base_uri": "https://localhost:8080/"
        },
        "id": "rsXaf4NL-1Mu",
        "outputId": "771a9179-173d-41a2-d4a3-ebb968e317c3"
      },
      "execution_count": null,
      "outputs": [
        {
          "output_type": "stream",
          "name": "stdout",
          "text": [
            "Total articles collected: 80\n",
            "[{'Title': 'Under Trump, AI Scientists Are Told to Remove ‘Ideological Bias’ From Powerful Models', 'Description': 'A directive from the National Institute of Standards and Technology eliminates mention of “AI safety” and “AI fairness.”', 'URL': 'https://www.wired.com/story/ai-safety-institute-new-directive-america-first/'}, {'Title': 'Google Is Developing Technology to Deliver Internet Via Light Bridges', 'Description': 'Taara is the latest moonshot out of Alphabet’s X lab.', 'URL': 'https://gizmodo.com/google-is-developing-technology-to-deliver-internet-via-light-bridges-2000570215'}, {'Title': 'LG’s new air conditioner directs cool air towards people it detects.', 'Description': 'The Artcool AI Air doesn’t look as artsy as LG’s previous Artcool air conditioners, but it does offer improved energy efficiency by detecting the room’s layout and the position of its occupants so it can direct airflow right to them. The company hasn’t announ…', 'URL': 'https://www.theverge.com/news/626065/lg-artcool-ai-air-conditioner-room-occupant-sensing'}]\n"
          ]
        }
      ]
    },
    {
      "cell_type": "code",
      "source": [
        "import pandas as pd\n",
        "\n",
        "# Convert list to DataFrame\n",
        "df = pd.DataFrame(news_list)\n",
        "\n",
        "# Check if the DataFrame is populated\n",
        "print(f\"Total rows in DataFrame: {len(df)}\")\n",
        "print(df.head())  # Print first few rows\n"
      ],
      "metadata": {
        "colab": {
          "base_uri": "https://localhost:8080/"
        },
        "id": "d_fNGmqC-2Dd",
        "outputId": "bf2efbed-af07-4a20-d72e-3aab7a86fefd"
      },
      "execution_count": null,
      "outputs": [
        {
          "output_type": "stream",
          "name": "stdout",
          "text": [
            "Total rows in DataFrame: 80\n",
            "                                               Title  \\\n",
            "0  Under Trump, AI Scientists Are Told to Remove ...   \n",
            "1  Google Is Developing Technology to Deliver Int...   \n",
            "2  LG’s new air conditioner directs cool air towa...   \n",
            "3  AMD is launching its latest Ryzen 9 X3D gaming...   \n",
            "4  Watch this ultra-detailed animation of the sea...   \n",
            "\n",
            "                                         Description  \\\n",
            "0  A directive from the National Institute of Sta...   \n",
            "1  Taara is the latest moonshot out of Alphabet’s...   \n",
            "2  The Artcool AI Air doesn’t look as artsy as LG...   \n",
            "3  AMD is announcing that its latest gaming-orien...   \n",
            "4  The world has a more detailed map of the seafl...   \n",
            "\n",
            "                                                 URL  \n",
            "0  https://www.wired.com/story/ai-safety-institut...  \n",
            "1  https://gizmodo.com/google-is-developing-techn...  \n",
            "2  https://www.theverge.com/news/626065/lg-artcoo...  \n",
            "3  https://www.theverge.com/news/625984/amd-ryzen...  \n",
            "4  https://www.theverge.com/nasa/634086/ocean-flo...  \n"
          ]
        }
      ]
    },
    {
      "cell_type": "code",
      "source": [
        "df.to_csv(\"news_data.csv\", index=False, encoding=\"utf-8\")\n",
        "print(\"✅ CSV saved successfully!\")\n"
      ],
      "metadata": {
        "colab": {
          "base_uri": "https://localhost:8080/"
        },
        "id": "6LXWx7UA-8o1",
        "outputId": "3db00915-e34d-4e32-f1f8-ee16f1b85d88"
      },
      "execution_count": null,
      "outputs": [
        {
          "output_type": "stream",
          "name": "stdout",
          "text": [
            "✅ CSV saved successfully!\n"
          ]
        }
      ]
    },
    {
      "cell_type": "code",
      "source": [
        "df_check = pd.read_csv(\"news_data.csv\")\n",
        "print(df_check.head())  # Confirm it's loading correctly\n"
      ],
      "metadata": {
        "colab": {
          "base_uri": "https://localhost:8080/"
        },
        "id": "TTVjOY0r_E1W",
        "outputId": "a06a556d-ce4d-46db-9885-a5932b6a52ff"
      },
      "execution_count": null,
      "outputs": [
        {
          "output_type": "stream",
          "name": "stdout",
          "text": [
            "                                               Title  \\\n",
            "0  Under Trump, AI Scientists Are Told to Remove ...   \n",
            "1  Google Is Developing Technology to Deliver Int...   \n",
            "2  LG’s new air conditioner directs cool air towa...   \n",
            "3  AMD is launching its latest Ryzen 9 X3D gaming...   \n",
            "4  Watch this ultra-detailed animation of the sea...   \n",
            "\n",
            "                                         Description  \\\n",
            "0  A directive from the National Institute of Sta...   \n",
            "1  Taara is the latest moonshot out of Alphabet’s...   \n",
            "2  The Artcool AI Air doesn’t look as artsy as LG...   \n",
            "3  AMD is announcing that its latest gaming-orien...   \n",
            "4  The world has a more detailed map of the seafl...   \n",
            "\n",
            "                                                 URL  \n",
            "0  https://www.wired.com/story/ai-safety-institut...  \n",
            "1  https://gizmodo.com/google-is-developing-techn...  \n",
            "2  https://www.theverge.com/news/626065/lg-artcoo...  \n",
            "3  https://www.theverge.com/news/625984/amd-ryzen...  \n",
            "4  https://www.theverge.com/nasa/634086/ocean-flo...  \n"
          ]
        }
      ]
    },
    {
      "cell_type": "code",
      "source": [
        "df = pd.read_csv(\"news_data.csv\")\n",
        "print(df.head())  # Check first few rows\n"
      ],
      "metadata": {
        "colab": {
          "base_uri": "https://localhost:8080/"
        },
        "id": "PHOuK_O6_HxU",
        "outputId": "15536f17-bfc6-4d27-90a5-37e9e27de81f"
      },
      "execution_count": null,
      "outputs": [
        {
          "output_type": "stream",
          "name": "stdout",
          "text": [
            "                                               Title  \\\n",
            "0  Under Trump, AI Scientists Are Told to Remove ...   \n",
            "1  Google Is Developing Technology to Deliver Int...   \n",
            "2  LG’s new air conditioner directs cool air towa...   \n",
            "3  AMD is launching its latest Ryzen 9 X3D gaming...   \n",
            "4  Watch this ultra-detailed animation of the sea...   \n",
            "\n",
            "                                         Description  \\\n",
            "0  A directive from the National Institute of Sta...   \n",
            "1  Taara is the latest moonshot out of Alphabet’s...   \n",
            "2  The Artcool AI Air doesn’t look as artsy as LG...   \n",
            "3  AMD is announcing that its latest gaming-orien...   \n",
            "4  The world has a more detailed map of the seafl...   \n",
            "\n",
            "                                                 URL  \n",
            "0  https://www.wired.com/story/ai-safety-institut...  \n",
            "1  https://gizmodo.com/google-is-developing-techn...  \n",
            "2  https://www.theverge.com/news/626065/lg-artcoo...  \n",
            "3  https://www.theverge.com/news/625984/amd-ryzen...  \n",
            "4  https://www.theverge.com/nasa/634086/ocean-flo...  \n"
          ]
        }
      ]
    },
    {
      "cell_type": "code",
      "source": [
        "print(df.info())  # Get column details\n",
        "print(df[\"Title\"].value_counts())  # Count news by source\n"
      ],
      "metadata": {
        "colab": {
          "base_uri": "https://localhost:8080/"
        },
        "id": "cyILix3z_gkO",
        "outputId": "dd28b4f4-0151-446c-9c3c-496ae0845cd3"
      },
      "execution_count": null,
      "outputs": [
        {
          "output_type": "stream",
          "name": "stdout",
          "text": [
            "<class 'pandas.core.frame.DataFrame'>\n",
            "RangeIndex: 80 entries, 0 to 79\n",
            "Data columns (total 3 columns):\n",
            " #   Column       Non-Null Count  Dtype \n",
            "---  ------       --------------  ----- \n",
            " 0   Title        80 non-null     object\n",
            " 1   Description  77 non-null     object\n",
            " 2   URL          80 non-null     object\n",
            "dtypes: object(3)\n",
            "memory usage: 2.0+ KB\n",
            "None\n",
            "Title\n",
            "Under Trump, AI Scientists Are Told to Remove ‘Ideological Bias’ From Powerful Models    1\n",
            "Google Is Developing Technology to Deliver Internet Via Light Bridges                    1\n",
            "LG’s new air conditioner directs cool air towards people it detects.                     1\n",
            "AMD is launching its latest Ryzen 9 X3D gaming processors on March 12th                  1\n",
            "Watch this ultra-detailed animation of the seafloor                                      1\n",
            "                                                                                        ..\n",
            "Trump’s Dismantling of NASA Has Officially Begun                                         1\n",
            "Trump’s FCC Head Warns EU Content Rules ‘Incompatible’ With Free Speech                  1\n",
            "Patient With Artificial Heart Smashes Survival Record                                    1\n",
            "Tearing Down a Vintage Word Processor                                                    1\n",
            "How Do Air Fryers Work?                                                                  1\n",
            "Name: count, Length: 80, dtype: int64\n"
          ]
        }
      ]
    },
    {
      "cell_type": "markdown",
      "source": [
        "sentiment analysis"
      ],
      "metadata": {
        "id": "SS2SRLlo6W0x"
      }
    },
    {
      "cell_type": "code",
      "source": [
        "pip install pandas nltk\n"
      ],
      "metadata": {
        "colab": {
          "base_uri": "https://localhost:8080/"
        },
        "id": "vv1YxC625HNp",
        "outputId": "60a4f32f-6f4f-4e5b-b766-ab5ed9b2e8a0"
      },
      "execution_count": null,
      "outputs": [
        {
          "output_type": "stream",
          "name": "stdout",
          "text": [
            "Requirement already satisfied: pandas in /usr/local/lib/python3.11/dist-packages (2.2.2)\n",
            "Requirement already satisfied: nltk in /usr/local/lib/python3.11/dist-packages (3.9.1)\n",
            "Requirement already satisfied: numpy>=1.23.2 in /usr/local/lib/python3.11/dist-packages (from pandas) (2.0.2)\n",
            "Requirement already satisfied: python-dateutil>=2.8.2 in /usr/local/lib/python3.11/dist-packages (from pandas) (2.8.2)\n",
            "Requirement already satisfied: pytz>=2020.1 in /usr/local/lib/python3.11/dist-packages (from pandas) (2025.1)\n",
            "Requirement already satisfied: tzdata>=2022.7 in /usr/local/lib/python3.11/dist-packages (from pandas) (2025.1)\n",
            "Requirement already satisfied: click in /usr/local/lib/python3.11/dist-packages (from nltk) (8.1.8)\n",
            "Requirement already satisfied: joblib in /usr/local/lib/python3.11/dist-packages (from nltk) (1.4.2)\n",
            "Requirement already satisfied: regex>=2021.8.3 in /usr/local/lib/python3.11/dist-packages (from nltk) (2024.11.6)\n",
            "Requirement already satisfied: tqdm in /usr/local/lib/python3.11/dist-packages (from nltk) (4.67.1)\n",
            "Requirement already satisfied: six>=1.5 in /usr/local/lib/python3.11/dist-packages (from python-dateutil>=2.8.2->pandas) (1.17.0)\n"
          ]
        }
      ]
    },
    {
      "cell_type": "code",
      "source": [
        "import pandas as pd\n",
        "from nltk.sentiment import SentimentIntensityAnalyzer\n",
        "import nltk\n",
        "\n",
        "# Download the VADER lexicon\n",
        "nltk.download('vader_lexicon')\n",
        "\n",
        "# Load your dataset\n",
        "df = pd.read_csv('news_data.csv')  # Replace 'your_data.csv' with your actual file path\n"
      ],
      "metadata": {
        "colab": {
          "base_uri": "https://localhost:8080/"
        },
        "id": "yW7W-19S6Yzh",
        "outputId": "39bc9be4-0576-4699-96e6-40304142c58f"
      },
      "execution_count": null,
      "outputs": [
        {
          "output_type": "stream",
          "name": "stderr",
          "text": [
            "[nltk_data] Downloading package vader_lexicon to /root/nltk_data...\n"
          ]
        }
      ]
    },
    {
      "cell_type": "code",
      "source": [
        "df['text_to_analyze'] = df['Title'] + ' ' + df['Description']"
      ],
      "metadata": {
        "id": "vH3Jea7n6m5p"
      },
      "execution_count": null,
      "outputs": []
    },
    {
      "cell_type": "code",
      "source": [
        "sia = SentimentIntensityAnalyzer()"
      ],
      "metadata": {
        "id": "UKqc05o16rZg"
      },
      "execution_count": null,
      "outputs": []
    },
    {
      "cell_type": "code",
      "source": [
        "def classify_sentiment(text):\n",
        "    if pd.isna(text) or text.strip() == '':\n",
        "        return 'neutral'\n",
        "    sentiment_score = sia.polarity_scores(text)['compound']\n",
        "    if sentiment_score > 0.05:\n",
        "        return 'positive'\n",
        "    elif sentiment_score < -0.05:\n",
        "        return 'negative'\n",
        "    else:\n",
        "        return 'neutral'\n"
      ],
      "metadata": {
        "id": "qR3PSFNh6tmA"
      },
      "execution_count": null,
      "outputs": []
    },
    {
      "cell_type": "code",
      "source": [
        "df['sentiment'] = df['text_to_analyze'].apply(classify_sentiment)\n"
      ],
      "metadata": {
        "id": "VTdGA8-i6wAh"
      },
      "execution_count": null,
      "outputs": []
    },
    {
      "cell_type": "code",
      "source": [
        "# Save to a new CSV file\n",
        "df.to_csv('sentiment_analysis_results.csv', index=False)\n",
        "\n",
        "# Or display the first few rows\n",
        "print(df[['Title', 'Description', 'sentiment']].head())\n"
      ],
      "metadata": {
        "colab": {
          "base_uri": "https://localhost:8080/"
        },
        "id": "tCc9HgOe6yRw",
        "outputId": "14ec7213-38d2-4352-9d7b-7b89c0f885ac"
      },
      "execution_count": null,
      "outputs": [
        {
          "output_type": "stream",
          "name": "stdout",
          "text": [
            "                                               Title  \\\n",
            "0  Under Trump, AI Scientists Are Told to Remove ...   \n",
            "1  Google Is Developing Technology to Deliver Int...   \n",
            "2  LG’s new air conditioner directs cool air towa...   \n",
            "3  AMD is launching its latest Ryzen 9 X3D gaming...   \n",
            "4  Watch this ultra-detailed animation of the sea...   \n",
            "\n",
            "                                         Description sentiment  \n",
            "0  A directive from the National Institute of Sta...  positive  \n",
            "1  Taara is the latest moonshot out of Alphabet’s...   neutral  \n",
            "2  The Artcool AI Air doesn’t look as artsy as LG...  positive  \n",
            "3  AMD is announcing that its latest gaming-orien...  positive  \n",
            "4  The world has a more detailed map of the seafl...  positive  \n"
          ]
        }
      ]
    }
  ]
}